{
 "cells": [
  {
   "cell_type": "markdown",
   "id": "937523b6",
   "metadata": {},
   "source": [
    "# reading CSV"
   ]
  },
  {
   "cell_type": "code",
   "execution_count": 1,
   "id": "1c866647",
   "metadata": {},
   "outputs": [],
   "source": [
    "import pandas as pd"
   ]
  },
  {
   "cell_type": "code",
   "execution_count": 2,
   "id": "ec849c43",
   "metadata": {},
   "outputs": [],
   "source": [
    "df = pd.read_csv('students_index_False.csv')"
   ]
  },
  {
   "cell_type": "code",
   "execution_count": 3,
   "id": "6121b115",
   "metadata": {},
   "outputs": [
    {
     "data": {
      "text/html": [
       "<div>\n",
       "<style scoped>\n",
       "    .dataframe tbody tr th:only-of-type {\n",
       "        vertical-align: middle;\n",
       "    }\n",
       "\n",
       "    .dataframe tbody tr th {\n",
       "        vertical-align: top;\n",
       "    }\n",
       "\n",
       "    .dataframe thead th {\n",
       "        text-align: right;\n",
       "    }\n",
       "</style>\n",
       "<table border=\"1\" class=\"dataframe\">\n",
       "  <thead>\n",
       "    <tr style=\"text-align: right;\">\n",
       "      <th></th>\n",
       "      <th>usn</th>\n",
       "      <th>name</th>\n",
       "      <th>sem</th>\n",
       "      <th>ia1</th>\n",
       "      <th>ia2</th>\n",
       "      <th>ia3</th>\n",
       "      <th>avg</th>\n",
       "    </tr>\n",
       "  </thead>\n",
       "  <tbody>\n",
       "    <tr>\n",
       "      <th>0</th>\n",
       "      <td>2ka19cs032</td>\n",
       "      <td>pavan</td>\n",
       "      <td>5</td>\n",
       "      <td>156</td>\n",
       "      <td>167</td>\n",
       "      <td>180</td>\n",
       "      <td>167.6670</td>\n",
       "    </tr>\n",
       "    <tr>\n",
       "      <th>1</th>\n",
       "      <td>2ka19cs033</td>\n",
       "      <td>pooja</td>\n",
       "      <td>5</td>\n",
       "      <td>165</td>\n",
       "      <td>164</td>\n",
       "      <td>134</td>\n",
       "      <td>154.3330</td>\n",
       "    </tr>\n",
       "    <tr>\n",
       "      <th>2</th>\n",
       "      <td>2ka19cs034</td>\n",
       "      <td>prasad</td>\n",
       "      <td>5</td>\n",
       "      <td>112</td>\n",
       "      <td>121</td>\n",
       "      <td>142</td>\n",
       "      <td>125.0000</td>\n",
       "    </tr>\n",
       "    <tr>\n",
       "      <th>3</th>\n",
       "      <td>2ka19cs035</td>\n",
       "      <td>pratap</td>\n",
       "      <td>5</td>\n",
       "      <td>167</td>\n",
       "      <td>134</td>\n",
       "      <td>164</td>\n",
       "      <td>155.0000</td>\n",
       "    </tr>\n",
       "    <tr>\n",
       "      <th>4</th>\n",
       "      <td>2ka19cs036</td>\n",
       "      <td>pruthvi</td>\n",
       "      <td>5</td>\n",
       "      <td>145</td>\n",
       "      <td>119</td>\n",
       "      <td>113</td>\n",
       "      <td>125.6667</td>\n",
       "    </tr>\n",
       "  </tbody>\n",
       "</table>\n",
       "</div>"
      ],
      "text/plain": [
       "          usn     name  sem  ia1  ia2  ia3       avg\n",
       "0  2ka19cs032    pavan    5  156  167  180  167.6670\n",
       "1  2ka19cs033    pooja    5  165  164  134  154.3330\n",
       "2  2ka19cs034   prasad    5  112  121  142  125.0000\n",
       "3  2ka19cs035   pratap    5  167  134  164  155.0000\n",
       "4  2ka19cs036  pruthvi    5  145  119  113  125.6667"
      ]
     },
     "execution_count": 3,
     "metadata": {},
     "output_type": "execute_result"
    }
   ],
   "source": [
    "df"
   ]
  },
  {
   "cell_type": "code",
   "execution_count": 4,
   "id": "6a51851e",
   "metadata": {},
   "outputs": [
    {
     "data": {
      "text/html": [
       "<div>\n",
       "<style scoped>\n",
       "    .dataframe tbody tr th:only-of-type {\n",
       "        vertical-align: middle;\n",
       "    }\n",
       "\n",
       "    .dataframe tbody tr th {\n",
       "        vertical-align: top;\n",
       "    }\n",
       "\n",
       "    .dataframe thead th {\n",
       "        text-align: right;\n",
       "    }\n",
       "</style>\n",
       "<table border=\"1\" class=\"dataframe\">\n",
       "  <thead>\n",
       "    <tr style=\"text-align: right;\">\n",
       "      <th></th>\n",
       "      <th>usn</th>\n",
       "      <th>name</th>\n",
       "      <th>sem</th>\n",
       "      <th>ia1</th>\n",
       "      <th>ia2</th>\n",
       "      <th>ia3</th>\n",
       "      <th>avg</th>\n",
       "    </tr>\n",
       "  </thead>\n",
       "  <tbody>\n",
       "    <tr>\n",
       "      <th>0</th>\n",
       "      <td>2ka19cs032</td>\n",
       "      <td>pavan</td>\n",
       "      <td>5</td>\n",
       "      <td>156</td>\n",
       "      <td>167</td>\n",
       "      <td>180</td>\n",
       "      <td>167.667</td>\n",
       "    </tr>\n",
       "    <tr>\n",
       "      <th>1</th>\n",
       "      <td>2ka19cs033</td>\n",
       "      <td>pooja</td>\n",
       "      <td>5</td>\n",
       "      <td>165</td>\n",
       "      <td>164</td>\n",
       "      <td>134</td>\n",
       "      <td>154.333</td>\n",
       "    </tr>\n",
       "  </tbody>\n",
       "</table>\n",
       "</div>"
      ],
      "text/plain": [
       "          usn   name  sem  ia1  ia2  ia3      avg\n",
       "0  2ka19cs032  pavan    5  156  167  180  167.667\n",
       "1  2ka19cs033  pooja    5  165  164  134  154.333"
      ]
     },
     "execution_count": 4,
     "metadata": {},
     "output_type": "execute_result"
    }
   ],
   "source": [
    "df.head(2)"
   ]
  },
  {
   "cell_type": "code",
   "execution_count": 5,
   "id": "6bb4b164",
   "metadata": {},
   "outputs": [
    {
     "data": {
      "text/html": [
       "<div>\n",
       "<style scoped>\n",
       "    .dataframe tbody tr th:only-of-type {\n",
       "        vertical-align: middle;\n",
       "    }\n",
       "\n",
       "    .dataframe tbody tr th {\n",
       "        vertical-align: top;\n",
       "    }\n",
       "\n",
       "    .dataframe thead th {\n",
       "        text-align: right;\n",
       "    }\n",
       "</style>\n",
       "<table border=\"1\" class=\"dataframe\">\n",
       "  <thead>\n",
       "    <tr style=\"text-align: right;\">\n",
       "      <th></th>\n",
       "      <th>usn</th>\n",
       "      <th>name</th>\n",
       "      <th>sem</th>\n",
       "      <th>ia1</th>\n",
       "      <th>ia2</th>\n",
       "      <th>ia3</th>\n",
       "      <th>avg</th>\n",
       "    </tr>\n",
       "  </thead>\n",
       "  <tbody>\n",
       "    <tr>\n",
       "      <th>3</th>\n",
       "      <td>2ka19cs035</td>\n",
       "      <td>pratap</td>\n",
       "      <td>5</td>\n",
       "      <td>167</td>\n",
       "      <td>134</td>\n",
       "      <td>164</td>\n",
       "      <td>155.0000</td>\n",
       "    </tr>\n",
       "    <tr>\n",
       "      <th>4</th>\n",
       "      <td>2ka19cs036</td>\n",
       "      <td>pruthvi</td>\n",
       "      <td>5</td>\n",
       "      <td>145</td>\n",
       "      <td>119</td>\n",
       "      <td>113</td>\n",
       "      <td>125.6667</td>\n",
       "    </tr>\n",
       "  </tbody>\n",
       "</table>\n",
       "</div>"
      ],
      "text/plain": [
       "          usn     name  sem  ia1  ia2  ia3       avg\n",
       "3  2ka19cs035   pratap    5  167  134  164  155.0000\n",
       "4  2ka19cs036  pruthvi    5  145  119  113  125.6667"
      ]
     },
     "execution_count": 5,
     "metadata": {},
     "output_type": "execute_result"
    }
   ],
   "source": [
    "df.tail(2)"
   ]
  },
  {
   "cell_type": "code",
   "execution_count": 6,
   "id": "e793fa02",
   "metadata": {},
   "outputs": [
    {
     "data": {
      "text/html": [
       "<div>\n",
       "<style scoped>\n",
       "    .dataframe tbody tr th:only-of-type {\n",
       "        vertical-align: middle;\n",
       "    }\n",
       "\n",
       "    .dataframe tbody tr th {\n",
       "        vertical-align: top;\n",
       "    }\n",
       "\n",
       "    .dataframe thead th {\n",
       "        text-align: right;\n",
       "    }\n",
       "</style>\n",
       "<table border=\"1\" class=\"dataframe\">\n",
       "  <thead>\n",
       "    <tr style=\"text-align: right;\">\n",
       "      <th></th>\n",
       "      <th>sem</th>\n",
       "      <th>ia1</th>\n",
       "      <th>ia2</th>\n",
       "      <th>ia3</th>\n",
       "      <th>avg</th>\n",
       "    </tr>\n",
       "  </thead>\n",
       "  <tbody>\n",
       "    <tr>\n",
       "      <th>count</th>\n",
       "      <td>5.0</td>\n",
       "      <td>5.000000</td>\n",
       "      <td>5.000000</td>\n",
       "      <td>5.0000</td>\n",
       "      <td>5.000000</td>\n",
       "    </tr>\n",
       "    <tr>\n",
       "      <th>mean</th>\n",
       "      <td>5.0</td>\n",
       "      <td>149.000000</td>\n",
       "      <td>141.000000</td>\n",
       "      <td>146.6000</td>\n",
       "      <td>145.533340</td>\n",
       "    </tr>\n",
       "    <tr>\n",
       "      <th>std</th>\n",
       "      <td>0.0</td>\n",
       "      <td>22.438806</td>\n",
       "      <td>23.119256</td>\n",
       "      <td>26.1113</td>\n",
       "      <td>19.191483</td>\n",
       "    </tr>\n",
       "    <tr>\n",
       "      <th>min</th>\n",
       "      <td>5.0</td>\n",
       "      <td>112.000000</td>\n",
       "      <td>119.000000</td>\n",
       "      <td>113.0000</td>\n",
       "      <td>125.000000</td>\n",
       "    </tr>\n",
       "    <tr>\n",
       "      <th>25%</th>\n",
       "      <td>5.0</td>\n",
       "      <td>145.000000</td>\n",
       "      <td>121.000000</td>\n",
       "      <td>134.0000</td>\n",
       "      <td>125.666700</td>\n",
       "    </tr>\n",
       "    <tr>\n",
       "      <th>50%</th>\n",
       "      <td>5.0</td>\n",
       "      <td>156.000000</td>\n",
       "      <td>134.000000</td>\n",
       "      <td>142.0000</td>\n",
       "      <td>154.333000</td>\n",
       "    </tr>\n",
       "    <tr>\n",
       "      <th>75%</th>\n",
       "      <td>5.0</td>\n",
       "      <td>165.000000</td>\n",
       "      <td>164.000000</td>\n",
       "      <td>164.0000</td>\n",
       "      <td>155.000000</td>\n",
       "    </tr>\n",
       "    <tr>\n",
       "      <th>max</th>\n",
       "      <td>5.0</td>\n",
       "      <td>167.000000</td>\n",
       "      <td>167.000000</td>\n",
       "      <td>180.0000</td>\n",
       "      <td>167.667000</td>\n",
       "    </tr>\n",
       "  </tbody>\n",
       "</table>\n",
       "</div>"
      ],
      "text/plain": [
       "       sem         ia1         ia2       ia3         avg\n",
       "count  5.0    5.000000    5.000000    5.0000    5.000000\n",
       "mean   5.0  149.000000  141.000000  146.6000  145.533340\n",
       "std    0.0   22.438806   23.119256   26.1113   19.191483\n",
       "min    5.0  112.000000  119.000000  113.0000  125.000000\n",
       "25%    5.0  145.000000  121.000000  134.0000  125.666700\n",
       "50%    5.0  156.000000  134.000000  142.0000  154.333000\n",
       "75%    5.0  165.000000  164.000000  164.0000  155.000000\n",
       "max    5.0  167.000000  167.000000  180.0000  167.667000"
      ]
     },
     "execution_count": 6,
     "metadata": {},
     "output_type": "execute_result"
    }
   ],
   "source": [
    "df.describe()  #describes only numerical values in dataframe"
   ]
  },
  {
   "cell_type": "code",
   "execution_count": 7,
   "id": "6941e44d",
   "metadata": {},
   "outputs": [
    {
     "data": {
      "text/plain": [
       "usn     5\n",
       "name    5\n",
       "sem     5\n",
       "ia1     5\n",
       "ia2     5\n",
       "ia3     5\n",
       "avg     5\n",
       "dtype: int64"
      ]
     },
     "execution_count": 7,
     "metadata": {},
     "output_type": "execute_result"
    }
   ],
   "source": [
    "df.count()"
   ]
  },
  {
   "cell_type": "code",
   "execution_count": 8,
   "id": "d031a967",
   "metadata": {},
   "outputs": [
    {
     "name": "stdout",
     "output_type": "stream",
     "text": [
      "usn\n",
      "name\n",
      "sem\n",
      "ia1\n",
      "ia2\n",
      "ia3\n",
      "avg\n"
     ]
    }
   ],
   "source": [
    "for i in df:\n",
    "    print(i)"
   ]
  },
  {
   "cell_type": "code",
   "execution_count": 9,
   "id": "a50c66cd",
   "metadata": {},
   "outputs": [
    {
     "data": {
      "text/plain": [
       "usn      object\n",
       "name     object\n",
       "sem       int64\n",
       "ia1       int64\n",
       "ia2       int64\n",
       "ia3       int64\n",
       "avg     float64\n",
       "dtype: object"
      ]
     },
     "execution_count": 9,
     "metadata": {},
     "output_type": "execute_result"
    }
   ],
   "source": [
    "df.dtypes"
   ]
  },
  {
   "cell_type": "code",
   "execution_count": 10,
   "id": "71162043",
   "metadata": {},
   "outputs": [
    {
     "data": {
      "text/html": [
       "<div>\n",
       "<style scoped>\n",
       "    .dataframe tbody tr th:only-of-type {\n",
       "        vertical-align: middle;\n",
       "    }\n",
       "\n",
       "    .dataframe tbody tr th {\n",
       "        vertical-align: top;\n",
       "    }\n",
       "\n",
       "    .dataframe thead th {\n",
       "        text-align: right;\n",
       "    }\n",
       "</style>\n",
       "<table border=\"1\" class=\"dataframe\">\n",
       "  <thead>\n",
       "    <tr style=\"text-align: right;\">\n",
       "      <th></th>\n",
       "      <th>usn</th>\n",
       "      <th>name</th>\n",
       "      <th>sem</th>\n",
       "      <th>ia1</th>\n",
       "      <th>ia2</th>\n",
       "      <th>ia3</th>\n",
       "      <th>avg</th>\n",
       "    </tr>\n",
       "  </thead>\n",
       "  <tbody>\n",
       "    <tr>\n",
       "      <th>0</th>\n",
       "      <td>2ka19cs032</td>\n",
       "      <td>pavan</td>\n",
       "      <td>5</td>\n",
       "      <td>156</td>\n",
       "      <td>167</td>\n",
       "      <td>180</td>\n",
       "      <td>167.6670</td>\n",
       "    </tr>\n",
       "    <tr>\n",
       "      <th>1</th>\n",
       "      <td>2ka19cs033</td>\n",
       "      <td>pooja</td>\n",
       "      <td>5</td>\n",
       "      <td>165</td>\n",
       "      <td>164</td>\n",
       "      <td>134</td>\n",
       "      <td>154.3330</td>\n",
       "    </tr>\n",
       "    <tr>\n",
       "      <th>2</th>\n",
       "      <td>2ka19cs034</td>\n",
       "      <td>prasad</td>\n",
       "      <td>5</td>\n",
       "      <td>112</td>\n",
       "      <td>121</td>\n",
       "      <td>142</td>\n",
       "      <td>125.0000</td>\n",
       "    </tr>\n",
       "    <tr>\n",
       "      <th>3</th>\n",
       "      <td>2ka19cs035</td>\n",
       "      <td>pratap</td>\n",
       "      <td>5</td>\n",
       "      <td>167</td>\n",
       "      <td>134</td>\n",
       "      <td>164</td>\n",
       "      <td>155.0000</td>\n",
       "    </tr>\n",
       "    <tr>\n",
       "      <th>4</th>\n",
       "      <td>2ka19cs036</td>\n",
       "      <td>pruthvi</td>\n",
       "      <td>5</td>\n",
       "      <td>145</td>\n",
       "      <td>119</td>\n",
       "      <td>113</td>\n",
       "      <td>125.6667</td>\n",
       "    </tr>\n",
       "  </tbody>\n",
       "</table>\n",
       "</div>"
      ],
      "text/plain": [
       "          usn     name  sem  ia1  ia2  ia3       avg\n",
       "0  2ka19cs032    pavan    5  156  167  180  167.6670\n",
       "1  2ka19cs033    pooja    5  165  164  134  154.3330\n",
       "2  2ka19cs034   prasad    5  112  121  142  125.0000\n",
       "3  2ka19cs035   pratap    5  167  134  164  155.0000\n",
       "4  2ka19cs036  pruthvi    5  145  119  113  125.6667"
      ]
     },
     "execution_count": 10,
     "metadata": {},
     "output_type": "execute_result"
    }
   ],
   "source": [
    "df"
   ]
  },
  {
   "cell_type": "code",
   "execution_count": 11,
   "id": "cee49a6c",
   "metadata": {},
   "outputs": [
    {
     "data": {
      "text/plain": [
       "RangeIndex(start=0, stop=5, step=1)"
      ]
     },
     "execution_count": 11,
     "metadata": {},
     "output_type": "execute_result"
    }
   ],
   "source": [
    "df.index"
   ]
  },
  {
   "cell_type": "code",
   "execution_count": 12,
   "id": "3167151c",
   "metadata": {},
   "outputs": [
    {
     "data": {
      "text/plain": [
       "Index(['usn', 'name', 'sem', 'ia1', 'ia2', 'ia3', 'avg'], dtype='object')"
      ]
     },
     "execution_count": 12,
     "metadata": {},
     "output_type": "execute_result"
    }
   ],
   "source": [
    "df.columns"
   ]
  },
  {
   "cell_type": "code",
   "execution_count": 13,
   "id": "626c22cd",
   "metadata": {},
   "outputs": [
    {
     "data": {
      "text/plain": [
       "array([['2ka19cs032', 'pavan', 5, 156, 167, 180, 167.667],\n",
       "       ['2ka19cs033', 'pooja', 5, 165, 164, 134, 154.333],\n",
       "       ['2ka19cs034', 'prasad', 5, 112, 121, 142, 125.0],\n",
       "       ['2ka19cs035', 'pratap', 5, 167, 134, 164, 155.0],\n",
       "       ['2ka19cs036', 'pruthvi', 5, 145, 119, 113, 125.6667]],\n",
       "      dtype=object)"
      ]
     },
     "execution_count": 13,
     "metadata": {},
     "output_type": "execute_result"
    }
   ],
   "source": [
    "df.to_numpy()"
   ]
  },
  {
   "cell_type": "code",
   "execution_count": 14,
   "id": "cfe2aa2d",
   "metadata": {},
   "outputs": [
    {
     "data": {
      "text/html": [
       "<div>\n",
       "<style scoped>\n",
       "    .dataframe tbody tr th:only-of-type {\n",
       "        vertical-align: middle;\n",
       "    }\n",
       "\n",
       "    .dataframe tbody tr th {\n",
       "        vertical-align: top;\n",
       "    }\n",
       "\n",
       "    .dataframe thead th {\n",
       "        text-align: right;\n",
       "    }\n",
       "</style>\n",
       "<table border=\"1\" class=\"dataframe\">\n",
       "  <thead>\n",
       "    <tr style=\"text-align: right;\">\n",
       "      <th></th>\n",
       "      <th>usn</th>\n",
       "      <th>name</th>\n",
       "      <th>sem</th>\n",
       "      <th>ia1</th>\n",
       "      <th>ia2</th>\n",
       "      <th>ia3</th>\n",
       "      <th>avg</th>\n",
       "    </tr>\n",
       "  </thead>\n",
       "  <tbody>\n",
       "    <tr>\n",
       "      <th>0</th>\n",
       "      <td>2ka19cs032</td>\n",
       "      <td>pavan</td>\n",
       "      <td>5</td>\n",
       "      <td>156</td>\n",
       "      <td>167</td>\n",
       "      <td>180</td>\n",
       "      <td>167.6670</td>\n",
       "    </tr>\n",
       "    <tr>\n",
       "      <th>1</th>\n",
       "      <td>2ka19cs033</td>\n",
       "      <td>pooja</td>\n",
       "      <td>5</td>\n",
       "      <td>165</td>\n",
       "      <td>164</td>\n",
       "      <td>134</td>\n",
       "      <td>154.3330</td>\n",
       "    </tr>\n",
       "    <tr>\n",
       "      <th>2</th>\n",
       "      <td>2ka19cs034</td>\n",
       "      <td>prasad</td>\n",
       "      <td>5</td>\n",
       "      <td>112</td>\n",
       "      <td>121</td>\n",
       "      <td>142</td>\n",
       "      <td>125.0000</td>\n",
       "    </tr>\n",
       "    <tr>\n",
       "      <th>3</th>\n",
       "      <td>2ka19cs035</td>\n",
       "      <td>pratap</td>\n",
       "      <td>5</td>\n",
       "      <td>167</td>\n",
       "      <td>134</td>\n",
       "      <td>164</td>\n",
       "      <td>155.0000</td>\n",
       "    </tr>\n",
       "    <tr>\n",
       "      <th>4</th>\n",
       "      <td>2ka19cs036</td>\n",
       "      <td>pruthvi</td>\n",
       "      <td>5</td>\n",
       "      <td>145</td>\n",
       "      <td>119</td>\n",
       "      <td>113</td>\n",
       "      <td>125.6667</td>\n",
       "    </tr>\n",
       "  </tbody>\n",
       "</table>\n",
       "</div>"
      ],
      "text/plain": [
       "          usn     name  sem  ia1  ia2  ia3       avg\n",
       "0  2ka19cs032    pavan    5  156  167  180  167.6670\n",
       "1  2ka19cs033    pooja    5  165  164  134  154.3330\n",
       "2  2ka19cs034   prasad    5  112  121  142  125.0000\n",
       "3  2ka19cs035   pratap    5  167  134  164  155.0000\n",
       "4  2ka19cs036  pruthvi    5  145  119  113  125.6667"
      ]
     },
     "execution_count": 14,
     "metadata": {},
     "output_type": "execute_result"
    }
   ],
   "source": [
    "df"
   ]
  },
  {
   "cell_type": "code",
   "execution_count": 15,
   "id": "f597c803",
   "metadata": {},
   "outputs": [
    {
     "data": {
      "text/html": [
       "<div>\n",
       "<style scoped>\n",
       "    .dataframe tbody tr th:only-of-type {\n",
       "        vertical-align: middle;\n",
       "    }\n",
       "\n",
       "    .dataframe tbody tr th {\n",
       "        vertical-align: top;\n",
       "    }\n",
       "\n",
       "    .dataframe thead th {\n",
       "        text-align: right;\n",
       "    }\n",
       "</style>\n",
       "<table border=\"1\" class=\"dataframe\">\n",
       "  <thead>\n",
       "    <tr style=\"text-align: right;\">\n",
       "      <th></th>\n",
       "      <th>avg</th>\n",
       "      <th>ia1</th>\n",
       "      <th>ia2</th>\n",
       "      <th>ia3</th>\n",
       "      <th>name</th>\n",
       "      <th>sem</th>\n",
       "      <th>usn</th>\n",
       "    </tr>\n",
       "  </thead>\n",
       "  <tbody>\n",
       "    <tr>\n",
       "      <th>0</th>\n",
       "      <td>167.6670</td>\n",
       "      <td>156</td>\n",
       "      <td>167</td>\n",
       "      <td>180</td>\n",
       "      <td>pavan</td>\n",
       "      <td>5</td>\n",
       "      <td>2ka19cs032</td>\n",
       "    </tr>\n",
       "    <tr>\n",
       "      <th>1</th>\n",
       "      <td>154.3330</td>\n",
       "      <td>165</td>\n",
       "      <td>164</td>\n",
       "      <td>134</td>\n",
       "      <td>pooja</td>\n",
       "      <td>5</td>\n",
       "      <td>2ka19cs033</td>\n",
       "    </tr>\n",
       "    <tr>\n",
       "      <th>2</th>\n",
       "      <td>125.0000</td>\n",
       "      <td>112</td>\n",
       "      <td>121</td>\n",
       "      <td>142</td>\n",
       "      <td>prasad</td>\n",
       "      <td>5</td>\n",
       "      <td>2ka19cs034</td>\n",
       "    </tr>\n",
       "    <tr>\n",
       "      <th>3</th>\n",
       "      <td>155.0000</td>\n",
       "      <td>167</td>\n",
       "      <td>134</td>\n",
       "      <td>164</td>\n",
       "      <td>pratap</td>\n",
       "      <td>5</td>\n",
       "      <td>2ka19cs035</td>\n",
       "    </tr>\n",
       "    <tr>\n",
       "      <th>4</th>\n",
       "      <td>125.6667</td>\n",
       "      <td>145</td>\n",
       "      <td>119</td>\n",
       "      <td>113</td>\n",
       "      <td>pruthvi</td>\n",
       "      <td>5</td>\n",
       "      <td>2ka19cs036</td>\n",
       "    </tr>\n",
       "  </tbody>\n",
       "</table>\n",
       "</div>"
      ],
      "text/plain": [
       "        avg  ia1  ia2  ia3     name  sem         usn\n",
       "0  167.6670  156  167  180    pavan    5  2ka19cs032\n",
       "1  154.3330  165  164  134    pooja    5  2ka19cs033\n",
       "2  125.0000  112  121  142   prasad    5  2ka19cs034\n",
       "3  155.0000  167  134  164   pratap    5  2ka19cs035\n",
       "4  125.6667  145  119  113  pruthvi    5  2ka19cs036"
      ]
     },
     "execution_count": 15,
     "metadata": {},
     "output_type": "execute_result"
    }
   ],
   "source": [
    "df.sort_index(axis=1)"
   ]
  },
  {
   "cell_type": "code",
   "execution_count": 16,
   "id": "7efa1037",
   "metadata": {},
   "outputs": [
    {
     "data": {
      "text/html": [
       "<div>\n",
       "<style scoped>\n",
       "    .dataframe tbody tr th:only-of-type {\n",
       "        vertical-align: middle;\n",
       "    }\n",
       "\n",
       "    .dataframe tbody tr th {\n",
       "        vertical-align: top;\n",
       "    }\n",
       "\n",
       "    .dataframe thead th {\n",
       "        text-align: right;\n",
       "    }\n",
       "</style>\n",
       "<table border=\"1\" class=\"dataframe\">\n",
       "  <thead>\n",
       "    <tr style=\"text-align: right;\">\n",
       "      <th></th>\n",
       "      <th>usn</th>\n",
       "      <th>name</th>\n",
       "      <th>sem</th>\n",
       "      <th>ia1</th>\n",
       "      <th>ia2</th>\n",
       "      <th>ia3</th>\n",
       "      <th>avg</th>\n",
       "    </tr>\n",
       "  </thead>\n",
       "  <tbody>\n",
       "    <tr>\n",
       "      <th>0</th>\n",
       "      <td>2ka19cs032</td>\n",
       "      <td>pavan</td>\n",
       "      <td>5</td>\n",
       "      <td>156</td>\n",
       "      <td>167</td>\n",
       "      <td>180</td>\n",
       "      <td>167.6670</td>\n",
       "    </tr>\n",
       "    <tr>\n",
       "      <th>1</th>\n",
       "      <td>2ka19cs033</td>\n",
       "      <td>pooja</td>\n",
       "      <td>5</td>\n",
       "      <td>165</td>\n",
       "      <td>164</td>\n",
       "      <td>134</td>\n",
       "      <td>154.3330</td>\n",
       "    </tr>\n",
       "    <tr>\n",
       "      <th>2</th>\n",
       "      <td>2ka19cs034</td>\n",
       "      <td>prasad</td>\n",
       "      <td>5</td>\n",
       "      <td>112</td>\n",
       "      <td>121</td>\n",
       "      <td>142</td>\n",
       "      <td>125.0000</td>\n",
       "    </tr>\n",
       "    <tr>\n",
       "      <th>3</th>\n",
       "      <td>2ka19cs035</td>\n",
       "      <td>pratap</td>\n",
       "      <td>5</td>\n",
       "      <td>167</td>\n",
       "      <td>134</td>\n",
       "      <td>164</td>\n",
       "      <td>155.0000</td>\n",
       "    </tr>\n",
       "    <tr>\n",
       "      <th>4</th>\n",
       "      <td>2ka19cs036</td>\n",
       "      <td>pruthvi</td>\n",
       "      <td>5</td>\n",
       "      <td>145</td>\n",
       "      <td>119</td>\n",
       "      <td>113</td>\n",
       "      <td>125.6667</td>\n",
       "    </tr>\n",
       "  </tbody>\n",
       "</table>\n",
       "</div>"
      ],
      "text/plain": [
       "          usn     name  sem  ia1  ia2  ia3       avg\n",
       "0  2ka19cs032    pavan    5  156  167  180  167.6670\n",
       "1  2ka19cs033    pooja    5  165  164  134  154.3330\n",
       "2  2ka19cs034   prasad    5  112  121  142  125.0000\n",
       "3  2ka19cs035   pratap    5  167  134  164  155.0000\n",
       "4  2ka19cs036  pruthvi    5  145  119  113  125.6667"
      ]
     },
     "execution_count": 16,
     "metadata": {},
     "output_type": "execute_result"
    }
   ],
   "source": [
    "df.sort_index(axis=0)"
   ]
  },
  {
   "cell_type": "code",
   "execution_count": 17,
   "id": "b9285c17",
   "metadata": {},
   "outputs": [
    {
     "data": {
      "text/html": [
       "<div>\n",
       "<style scoped>\n",
       "    .dataframe tbody tr th:only-of-type {\n",
       "        vertical-align: middle;\n",
       "    }\n",
       "\n",
       "    .dataframe tbody tr th {\n",
       "        vertical-align: top;\n",
       "    }\n",
       "\n",
       "    .dataframe thead th {\n",
       "        text-align: right;\n",
       "    }\n",
       "</style>\n",
       "<table border=\"1\" class=\"dataframe\">\n",
       "  <thead>\n",
       "    <tr style=\"text-align: right;\">\n",
       "      <th></th>\n",
       "      <th>usn</th>\n",
       "      <th>name</th>\n",
       "      <th>sem</th>\n",
       "      <th>ia1</th>\n",
       "      <th>ia2</th>\n",
       "      <th>ia3</th>\n",
       "      <th>avg</th>\n",
       "    </tr>\n",
       "  </thead>\n",
       "  <tbody>\n",
       "    <tr>\n",
       "      <th>4</th>\n",
       "      <td>2ka19cs036</td>\n",
       "      <td>pruthvi</td>\n",
       "      <td>5</td>\n",
       "      <td>145</td>\n",
       "      <td>119</td>\n",
       "      <td>113</td>\n",
       "      <td>125.6667</td>\n",
       "    </tr>\n",
       "    <tr>\n",
       "      <th>3</th>\n",
       "      <td>2ka19cs035</td>\n",
       "      <td>pratap</td>\n",
       "      <td>5</td>\n",
       "      <td>167</td>\n",
       "      <td>134</td>\n",
       "      <td>164</td>\n",
       "      <td>155.0000</td>\n",
       "    </tr>\n",
       "    <tr>\n",
       "      <th>2</th>\n",
       "      <td>2ka19cs034</td>\n",
       "      <td>prasad</td>\n",
       "      <td>5</td>\n",
       "      <td>112</td>\n",
       "      <td>121</td>\n",
       "      <td>142</td>\n",
       "      <td>125.0000</td>\n",
       "    </tr>\n",
       "    <tr>\n",
       "      <th>1</th>\n",
       "      <td>2ka19cs033</td>\n",
       "      <td>pooja</td>\n",
       "      <td>5</td>\n",
       "      <td>165</td>\n",
       "      <td>164</td>\n",
       "      <td>134</td>\n",
       "      <td>154.3330</td>\n",
       "    </tr>\n",
       "    <tr>\n",
       "      <th>0</th>\n",
       "      <td>2ka19cs032</td>\n",
       "      <td>pavan</td>\n",
       "      <td>5</td>\n",
       "      <td>156</td>\n",
       "      <td>167</td>\n",
       "      <td>180</td>\n",
       "      <td>167.6670</td>\n",
       "    </tr>\n",
       "  </tbody>\n",
       "</table>\n",
       "</div>"
      ],
      "text/plain": [
       "          usn     name  sem  ia1  ia2  ia3       avg\n",
       "4  2ka19cs036  pruthvi    5  145  119  113  125.6667\n",
       "3  2ka19cs035   pratap    5  167  134  164  155.0000\n",
       "2  2ka19cs034   prasad    5  112  121  142  125.0000\n",
       "1  2ka19cs033    pooja    5  165  164  134  154.3330\n",
       "0  2ka19cs032    pavan    5  156  167  180  167.6670"
      ]
     },
     "execution_count": 17,
     "metadata": {},
     "output_type": "execute_result"
    }
   ],
   "source": [
    "df.sort_index(axis=0, ascending =False)"
   ]
  },
  {
   "cell_type": "code",
   "execution_count": 18,
   "id": "8adf06fb",
   "metadata": {},
   "outputs": [
    {
     "data": {
      "text/plain": [
       "pandas.core.frame.DataFrame"
      ]
     },
     "execution_count": 18,
     "metadata": {},
     "output_type": "execute_result"
    }
   ],
   "source": [
    "type(df)"
   ]
  },
  {
   "cell_type": "code",
   "execution_count": 19,
   "id": "444dd3f0",
   "metadata": {},
   "outputs": [
    {
     "data": {
      "text/plain": [
       "pandas.core.series.Series"
      ]
     },
     "execution_count": 19,
     "metadata": {},
     "output_type": "execute_result"
    }
   ],
   "source": [
    "type(df['usn'])"
   ]
  },
  {
   "cell_type": "markdown",
   "id": "5e288973",
   "metadata": {},
   "source": [
    "# COPY AND VIEW"
   ]
  },
  {
   "cell_type": "code",
   "execution_count": 20,
   "id": "f39a0916",
   "metadata": {},
   "outputs": [],
   "source": [
    "newdf = df #this is not a way of copying dataframes into new one"
   ]
  },
  {
   "cell_type": "code",
   "execution_count": 21,
   "id": "98983c71",
   "metadata": {},
   "outputs": [
    {
     "name": "stderr",
     "output_type": "stream",
     "text": [
      "C:\\Users\\pavan\\AppData\\Local\\Temp/ipykernel_3104/1699598413.py:1: SettingWithCopyWarning: \n",
      "A value is trying to be set on a copy of a slice from a DataFrame\n",
      "\n",
      "See the caveats in the documentation: https://pandas.pydata.org/pandas-docs/stable/user_guide/indexing.html#returning-a-view-versus-a-copy\n",
      "  newdf['sem'][0] = 4\n"
     ]
    }
   ],
   "source": [
    "newdf['sem'][0] = 4"
   ]
  },
  {
   "cell_type": "code",
   "execution_count": 22,
   "id": "4c76d8bf",
   "metadata": {},
   "outputs": [
    {
     "data": {
      "text/html": [
       "<div>\n",
       "<style scoped>\n",
       "    .dataframe tbody tr th:only-of-type {\n",
       "        vertical-align: middle;\n",
       "    }\n",
       "\n",
       "    .dataframe tbody tr th {\n",
       "        vertical-align: top;\n",
       "    }\n",
       "\n",
       "    .dataframe thead th {\n",
       "        text-align: right;\n",
       "    }\n",
       "</style>\n",
       "<table border=\"1\" class=\"dataframe\">\n",
       "  <thead>\n",
       "    <tr style=\"text-align: right;\">\n",
       "      <th></th>\n",
       "      <th>usn</th>\n",
       "      <th>name</th>\n",
       "      <th>sem</th>\n",
       "      <th>ia1</th>\n",
       "      <th>ia2</th>\n",
       "      <th>ia3</th>\n",
       "      <th>avg</th>\n",
       "    </tr>\n",
       "  </thead>\n",
       "  <tbody>\n",
       "    <tr>\n",
       "      <th>0</th>\n",
       "      <td>2ka19cs032</td>\n",
       "      <td>pavan</td>\n",
       "      <td>4</td>\n",
       "      <td>156</td>\n",
       "      <td>167</td>\n",
       "      <td>180</td>\n",
       "      <td>167.6670</td>\n",
       "    </tr>\n",
       "    <tr>\n",
       "      <th>1</th>\n",
       "      <td>2ka19cs033</td>\n",
       "      <td>pooja</td>\n",
       "      <td>5</td>\n",
       "      <td>165</td>\n",
       "      <td>164</td>\n",
       "      <td>134</td>\n",
       "      <td>154.3330</td>\n",
       "    </tr>\n",
       "    <tr>\n",
       "      <th>2</th>\n",
       "      <td>2ka19cs034</td>\n",
       "      <td>prasad</td>\n",
       "      <td>5</td>\n",
       "      <td>112</td>\n",
       "      <td>121</td>\n",
       "      <td>142</td>\n",
       "      <td>125.0000</td>\n",
       "    </tr>\n",
       "    <tr>\n",
       "      <th>3</th>\n",
       "      <td>2ka19cs035</td>\n",
       "      <td>pratap</td>\n",
       "      <td>5</td>\n",
       "      <td>167</td>\n",
       "      <td>134</td>\n",
       "      <td>164</td>\n",
       "      <td>155.0000</td>\n",
       "    </tr>\n",
       "    <tr>\n",
       "      <th>4</th>\n",
       "      <td>2ka19cs036</td>\n",
       "      <td>pruthvi</td>\n",
       "      <td>5</td>\n",
       "      <td>145</td>\n",
       "      <td>119</td>\n",
       "      <td>113</td>\n",
       "      <td>125.6667</td>\n",
       "    </tr>\n",
       "  </tbody>\n",
       "</table>\n",
       "</div>"
      ],
      "text/plain": [
       "          usn     name  sem  ia1  ia2  ia3       avg\n",
       "0  2ka19cs032    pavan    4  156  167  180  167.6670\n",
       "1  2ka19cs033    pooja    5  165  164  134  154.3330\n",
       "2  2ka19cs034   prasad    5  112  121  142  125.0000\n",
       "3  2ka19cs035   pratap    5  167  134  164  155.0000\n",
       "4  2ka19cs036  pruthvi    5  145  119  113  125.6667"
      ]
     },
     "execution_count": 22,
     "metadata": {},
     "output_type": "execute_result"
    }
   ],
   "source": [
    "df #changes made to newdf are also applied to df\n"
   ]
  },
  {
   "cell_type": "code",
   "execution_count": 23,
   "id": "a6361d8b",
   "metadata": {},
   "outputs": [],
   "source": [
    "copydf = df.copy()"
   ]
  },
  {
   "cell_type": "code",
   "execution_count": 24,
   "id": "a48ba888",
   "metadata": {},
   "outputs": [
    {
     "name": "stderr",
     "output_type": "stream",
     "text": [
      "C:\\Users\\pavan\\AppData\\Local\\Temp/ipykernel_3104/3216079878.py:1: SettingWithCopyWarning: \n",
      "A value is trying to be set on a copy of a slice from a DataFrame\n",
      "\n",
      "See the caveats in the documentation: https://pandas.pydata.org/pandas-docs/stable/user_guide/indexing.html#returning-a-view-versus-a-copy\n",
      "  copydf['sem'][0] = 5\n"
     ]
    }
   ],
   "source": [
    "copydf['sem'][0] = 5"
   ]
  },
  {
   "cell_type": "code",
   "execution_count": 25,
   "id": "beb5818d",
   "metadata": {},
   "outputs": [
    {
     "data": {
      "text/html": [
       "<div>\n",
       "<style scoped>\n",
       "    .dataframe tbody tr th:only-of-type {\n",
       "        vertical-align: middle;\n",
       "    }\n",
       "\n",
       "    .dataframe tbody tr th {\n",
       "        vertical-align: top;\n",
       "    }\n",
       "\n",
       "    .dataframe thead th {\n",
       "        text-align: right;\n",
       "    }\n",
       "</style>\n",
       "<table border=\"1\" class=\"dataframe\">\n",
       "  <thead>\n",
       "    <tr style=\"text-align: right;\">\n",
       "      <th></th>\n",
       "      <th>usn</th>\n",
       "      <th>name</th>\n",
       "      <th>sem</th>\n",
       "      <th>ia1</th>\n",
       "      <th>ia2</th>\n",
       "      <th>ia3</th>\n",
       "      <th>avg</th>\n",
       "    </tr>\n",
       "  </thead>\n",
       "  <tbody>\n",
       "    <tr>\n",
       "      <th>0</th>\n",
       "      <td>2ka19cs032</td>\n",
       "      <td>pavan</td>\n",
       "      <td>4</td>\n",
       "      <td>156</td>\n",
       "      <td>167</td>\n",
       "      <td>180</td>\n",
       "      <td>167.6670</td>\n",
       "    </tr>\n",
       "    <tr>\n",
       "      <th>1</th>\n",
       "      <td>2ka19cs033</td>\n",
       "      <td>pooja</td>\n",
       "      <td>5</td>\n",
       "      <td>165</td>\n",
       "      <td>164</td>\n",
       "      <td>134</td>\n",
       "      <td>154.3330</td>\n",
       "    </tr>\n",
       "    <tr>\n",
       "      <th>2</th>\n",
       "      <td>2ka19cs034</td>\n",
       "      <td>prasad</td>\n",
       "      <td>5</td>\n",
       "      <td>112</td>\n",
       "      <td>121</td>\n",
       "      <td>142</td>\n",
       "      <td>125.0000</td>\n",
       "    </tr>\n",
       "    <tr>\n",
       "      <th>3</th>\n",
       "      <td>2ka19cs035</td>\n",
       "      <td>pratap</td>\n",
       "      <td>5</td>\n",
       "      <td>167</td>\n",
       "      <td>134</td>\n",
       "      <td>164</td>\n",
       "      <td>155.0000</td>\n",
       "    </tr>\n",
       "    <tr>\n",
       "      <th>4</th>\n",
       "      <td>2ka19cs036</td>\n",
       "      <td>pruthvi</td>\n",
       "      <td>5</td>\n",
       "      <td>145</td>\n",
       "      <td>119</td>\n",
       "      <td>113</td>\n",
       "      <td>125.6667</td>\n",
       "    </tr>\n",
       "  </tbody>\n",
       "</table>\n",
       "</div>"
      ],
      "text/plain": [
       "          usn     name  sem  ia1  ia2  ia3       avg\n",
       "0  2ka19cs032    pavan    4  156  167  180  167.6670\n",
       "1  2ka19cs033    pooja    5  165  164  134  154.3330\n",
       "2  2ka19cs034   prasad    5  112  121  142  125.0000\n",
       "3  2ka19cs035   pratap    5  167  134  164  155.0000\n",
       "4  2ka19cs036  pruthvi    5  145  119  113  125.6667"
      ]
     },
     "execution_count": 25,
     "metadata": {},
     "output_type": "execute_result"
    }
   ],
   "source": [
    "df #df remained unchanged "
   ]
  },
  {
   "cell_type": "code",
   "execution_count": 26,
   "id": "3e382550",
   "metadata": {},
   "outputs": [
    {
     "data": {
      "text/html": [
       "<div>\n",
       "<style scoped>\n",
       "    .dataframe tbody tr th:only-of-type {\n",
       "        vertical-align: middle;\n",
       "    }\n",
       "\n",
       "    .dataframe tbody tr th {\n",
       "        vertical-align: top;\n",
       "    }\n",
       "\n",
       "    .dataframe thead th {\n",
       "        text-align: right;\n",
       "    }\n",
       "</style>\n",
       "<table border=\"1\" class=\"dataframe\">\n",
       "  <thead>\n",
       "    <tr style=\"text-align: right;\">\n",
       "      <th></th>\n",
       "      <th>usn</th>\n",
       "      <th>name</th>\n",
       "      <th>sem</th>\n",
       "      <th>ia1</th>\n",
       "      <th>ia2</th>\n",
       "      <th>ia3</th>\n",
       "      <th>avg</th>\n",
       "    </tr>\n",
       "  </thead>\n",
       "  <tbody>\n",
       "    <tr>\n",
       "      <th>0</th>\n",
       "      <td>2ka19cs032</td>\n",
       "      <td>pavan</td>\n",
       "      <td>5</td>\n",
       "      <td>156</td>\n",
       "      <td>167</td>\n",
       "      <td>180</td>\n",
       "      <td>167.6670</td>\n",
       "    </tr>\n",
       "    <tr>\n",
       "      <th>1</th>\n",
       "      <td>2ka19cs033</td>\n",
       "      <td>pooja</td>\n",
       "      <td>5</td>\n",
       "      <td>165</td>\n",
       "      <td>164</td>\n",
       "      <td>134</td>\n",
       "      <td>154.3330</td>\n",
       "    </tr>\n",
       "    <tr>\n",
       "      <th>2</th>\n",
       "      <td>2ka19cs034</td>\n",
       "      <td>prasad</td>\n",
       "      <td>5</td>\n",
       "      <td>112</td>\n",
       "      <td>121</td>\n",
       "      <td>142</td>\n",
       "      <td>125.0000</td>\n",
       "    </tr>\n",
       "    <tr>\n",
       "      <th>3</th>\n",
       "      <td>2ka19cs035</td>\n",
       "      <td>pratap</td>\n",
       "      <td>5</td>\n",
       "      <td>167</td>\n",
       "      <td>134</td>\n",
       "      <td>164</td>\n",
       "      <td>155.0000</td>\n",
       "    </tr>\n",
       "    <tr>\n",
       "      <th>4</th>\n",
       "      <td>2ka19cs036</td>\n",
       "      <td>pruthvi</td>\n",
       "      <td>5</td>\n",
       "      <td>145</td>\n",
       "      <td>119</td>\n",
       "      <td>113</td>\n",
       "      <td>125.6667</td>\n",
       "    </tr>\n",
       "  </tbody>\n",
       "</table>\n",
       "</div>"
      ],
      "text/plain": [
       "          usn     name  sem  ia1  ia2  ia3       avg\n",
       "0  2ka19cs032    pavan    5  156  167  180  167.6670\n",
       "1  2ka19cs033    pooja    5  165  164  134  154.3330\n",
       "2  2ka19cs034   prasad    5  112  121  142  125.0000\n",
       "3  2ka19cs035   pratap    5  167  134  164  155.0000\n",
       "4  2ka19cs036  pruthvi    5  145  119  113  125.6667"
      ]
     },
     "execution_count": 26,
     "metadata": {},
     "output_type": "execute_result"
    }
   ],
   "source": [
    "copydf"
   ]
  },
  {
   "cell_type": "markdown",
   "id": "29652e3a",
   "metadata": {},
   "source": [
    "# overcome SettingWithCopyWarning  using loc[]"
   ]
  },
  {
   "cell_type": "code",
   "execution_count": 27,
   "id": "437fdf8b",
   "metadata": {},
   "outputs": [
    {
     "data": {
      "text/html": [
       "<div>\n",
       "<style scoped>\n",
       "    .dataframe tbody tr th:only-of-type {\n",
       "        vertical-align: middle;\n",
       "    }\n",
       "\n",
       "    .dataframe tbody tr th {\n",
       "        vertical-align: top;\n",
       "    }\n",
       "\n",
       "    .dataframe thead th {\n",
       "        text-align: right;\n",
       "    }\n",
       "</style>\n",
       "<table border=\"1\" class=\"dataframe\">\n",
       "  <thead>\n",
       "    <tr style=\"text-align: right;\">\n",
       "      <th></th>\n",
       "      <th>usn</th>\n",
       "      <th>name</th>\n",
       "      <th>sem</th>\n",
       "      <th>ia1</th>\n",
       "      <th>ia2</th>\n",
       "      <th>ia3</th>\n",
       "      <th>avg</th>\n",
       "    </tr>\n",
       "  </thead>\n",
       "  <tbody>\n",
       "    <tr>\n",
       "      <th>0</th>\n",
       "      <td>2ka19cs032</td>\n",
       "      <td>pavan</td>\n",
       "      <td>4</td>\n",
       "      <td>156</td>\n",
       "      <td>167</td>\n",
       "      <td>180</td>\n",
       "      <td>167.6670</td>\n",
       "    </tr>\n",
       "    <tr>\n",
       "      <th>1</th>\n",
       "      <td>2ka19cs033</td>\n",
       "      <td>pooja</td>\n",
       "      <td>5</td>\n",
       "      <td>165</td>\n",
       "      <td>164</td>\n",
       "      <td>134</td>\n",
       "      <td>154.3330</td>\n",
       "    </tr>\n",
       "    <tr>\n",
       "      <th>2</th>\n",
       "      <td>2ka19cs034</td>\n",
       "      <td>prasad</td>\n",
       "      <td>5</td>\n",
       "      <td>112</td>\n",
       "      <td>121</td>\n",
       "      <td>142</td>\n",
       "      <td>125.0000</td>\n",
       "    </tr>\n",
       "    <tr>\n",
       "      <th>3</th>\n",
       "      <td>2ka19cs035</td>\n",
       "      <td>pratap</td>\n",
       "      <td>5</td>\n",
       "      <td>167</td>\n",
       "      <td>134</td>\n",
       "      <td>164</td>\n",
       "      <td>155.0000</td>\n",
       "    </tr>\n",
       "    <tr>\n",
       "      <th>4</th>\n",
       "      <td>2ka19cs036</td>\n",
       "      <td>pruthvi</td>\n",
       "      <td>5</td>\n",
       "      <td>145</td>\n",
       "      <td>119</td>\n",
       "      <td>113</td>\n",
       "      <td>125.6667</td>\n",
       "    </tr>\n",
       "  </tbody>\n",
       "</table>\n",
       "</div>"
      ],
      "text/plain": [
       "          usn     name  sem  ia1  ia2  ia3       avg\n",
       "0  2ka19cs032    pavan    4  156  167  180  167.6670\n",
       "1  2ka19cs033    pooja    5  165  164  134  154.3330\n",
       "2  2ka19cs034   prasad    5  112  121  142  125.0000\n",
       "3  2ka19cs035   pratap    5  167  134  164  155.0000\n",
       "4  2ka19cs036  pruthvi    5  145  119  113  125.6667"
      ]
     },
     "execution_count": 27,
     "metadata": {},
     "output_type": "execute_result"
    }
   ],
   "source": [
    "df"
   ]
  },
  {
   "cell_type": "code",
   "execution_count": 28,
   "id": "14c2f295",
   "metadata": {},
   "outputs": [
    {
     "data": {
      "text/plain": [
       "usn     2ka19cs032\n",
       "name         pavan\n",
       "sem              4\n",
       "ia1            156\n",
       "ia2            167\n",
       "ia3            180\n",
       "avg        167.667\n",
       "Name: 0, dtype: object"
      ]
     },
     "execution_count": 28,
     "metadata": {},
     "output_type": "execute_result"
    }
   ],
   "source": [
    "df.loc[0]"
   ]
  },
  {
   "cell_type": "code",
   "execution_count": 29,
   "id": "803d6345",
   "metadata": {},
   "outputs": [],
   "source": [
    "df.loc[0,'sem'] = 5"
   ]
  },
  {
   "cell_type": "code",
   "execution_count": 30,
   "id": "d21ab083",
   "metadata": {},
   "outputs": [
    {
     "data": {
      "text/html": [
       "<div>\n",
       "<style scoped>\n",
       "    .dataframe tbody tr th:only-of-type {\n",
       "        vertical-align: middle;\n",
       "    }\n",
       "\n",
       "    .dataframe tbody tr th {\n",
       "        vertical-align: top;\n",
       "    }\n",
       "\n",
       "    .dataframe thead th {\n",
       "        text-align: right;\n",
       "    }\n",
       "</style>\n",
       "<table border=\"1\" class=\"dataframe\">\n",
       "  <thead>\n",
       "    <tr style=\"text-align: right;\">\n",
       "      <th></th>\n",
       "      <th>usn</th>\n",
       "      <th>name</th>\n",
       "      <th>sem</th>\n",
       "      <th>ia1</th>\n",
       "      <th>ia2</th>\n",
       "      <th>ia3</th>\n",
       "      <th>avg</th>\n",
       "    </tr>\n",
       "  </thead>\n",
       "  <tbody>\n",
       "    <tr>\n",
       "      <th>0</th>\n",
       "      <td>2ka19cs032</td>\n",
       "      <td>pavan</td>\n",
       "      <td>5</td>\n",
       "      <td>156</td>\n",
       "      <td>167</td>\n",
       "      <td>180</td>\n",
       "      <td>167.6670</td>\n",
       "    </tr>\n",
       "    <tr>\n",
       "      <th>1</th>\n",
       "      <td>2ka19cs033</td>\n",
       "      <td>pooja</td>\n",
       "      <td>5</td>\n",
       "      <td>165</td>\n",
       "      <td>164</td>\n",
       "      <td>134</td>\n",
       "      <td>154.3330</td>\n",
       "    </tr>\n",
       "    <tr>\n",
       "      <th>2</th>\n",
       "      <td>2ka19cs034</td>\n",
       "      <td>prasad</td>\n",
       "      <td>5</td>\n",
       "      <td>112</td>\n",
       "      <td>121</td>\n",
       "      <td>142</td>\n",
       "      <td>125.0000</td>\n",
       "    </tr>\n",
       "    <tr>\n",
       "      <th>3</th>\n",
       "      <td>2ka19cs035</td>\n",
       "      <td>pratap</td>\n",
       "      <td>5</td>\n",
       "      <td>167</td>\n",
       "      <td>134</td>\n",
       "      <td>164</td>\n",
       "      <td>155.0000</td>\n",
       "    </tr>\n",
       "    <tr>\n",
       "      <th>4</th>\n",
       "      <td>2ka19cs036</td>\n",
       "      <td>pruthvi</td>\n",
       "      <td>5</td>\n",
       "      <td>145</td>\n",
       "      <td>119</td>\n",
       "      <td>113</td>\n",
       "      <td>125.6667</td>\n",
       "    </tr>\n",
       "  </tbody>\n",
       "</table>\n",
       "</div>"
      ],
      "text/plain": [
       "          usn     name  sem  ia1  ia2  ia3       avg\n",
       "0  2ka19cs032    pavan    5  156  167  180  167.6670\n",
       "1  2ka19cs033    pooja    5  165  164  134  154.3330\n",
       "2  2ka19cs034   prasad    5  112  121  142  125.0000\n",
       "3  2ka19cs035   pratap    5  167  134  164  155.0000\n",
       "4  2ka19cs036  pruthvi    5  145  119  113  125.6667"
      ]
     },
     "execution_count": 30,
     "metadata": {},
     "output_type": "execute_result"
    }
   ],
   "source": [
    "df"
   ]
  },
  {
   "cell_type": "code",
   "execution_count": 31,
   "id": "e3405799",
   "metadata": {},
   "outputs": [
    {
     "data": {
      "text/html": [
       "<div>\n",
       "<style scoped>\n",
       "    .dataframe tbody tr th:only-of-type {\n",
       "        vertical-align: middle;\n",
       "    }\n",
       "\n",
       "    .dataframe tbody tr th {\n",
       "        vertical-align: top;\n",
       "    }\n",
       "\n",
       "    .dataframe thead th {\n",
       "        text-align: right;\n",
       "    }\n",
       "</style>\n",
       "<table border=\"1\" class=\"dataframe\">\n",
       "  <thead>\n",
       "    <tr style=\"text-align: right;\">\n",
       "      <th></th>\n",
       "      <th>usn</th>\n",
       "      <th>name</th>\n",
       "      <th>sem</th>\n",
       "      <th>ia1</th>\n",
       "      <th>ia2</th>\n",
       "      <th>ia3</th>\n",
       "      <th>avg</th>\n",
       "    </tr>\n",
       "  </thead>\n",
       "  <tbody>\n",
       "    <tr>\n",
       "      <th>0</th>\n",
       "      <td>2ka19cs032</td>\n",
       "      <td>pavan</td>\n",
       "      <td>5</td>\n",
       "      <td>156</td>\n",
       "      <td>167</td>\n",
       "      <td>180</td>\n",
       "      <td>167.6670</td>\n",
       "    </tr>\n",
       "    <tr>\n",
       "      <th>1</th>\n",
       "      <td>2ka19cs033</td>\n",
       "      <td>pooja</td>\n",
       "      <td>5</td>\n",
       "      <td>165</td>\n",
       "      <td>164</td>\n",
       "      <td>134</td>\n",
       "      <td>154.3330</td>\n",
       "    </tr>\n",
       "    <tr>\n",
       "      <th>2</th>\n",
       "      <td>2ka19cs034</td>\n",
       "      <td>prasad</td>\n",
       "      <td>5</td>\n",
       "      <td>112</td>\n",
       "      <td>121</td>\n",
       "      <td>142</td>\n",
       "      <td>125.0000</td>\n",
       "    </tr>\n",
       "    <tr>\n",
       "      <th>3</th>\n",
       "      <td>2ka19cs035</td>\n",
       "      <td>pratap</td>\n",
       "      <td>5</td>\n",
       "      <td>167</td>\n",
       "      <td>134</td>\n",
       "      <td>164</td>\n",
       "      <td>155.0000</td>\n",
       "    </tr>\n",
       "    <tr>\n",
       "      <th>4</th>\n",
       "      <td>2ka19cs036</td>\n",
       "      <td>pruthvi</td>\n",
       "      <td>5</td>\n",
       "      <td>145</td>\n",
       "      <td>119</td>\n",
       "      <td>113</td>\n",
       "      <td>125.6667</td>\n",
       "    </tr>\n",
       "  </tbody>\n",
       "</table>\n",
       "</div>"
      ],
      "text/plain": [
       "          usn     name  sem  ia1  ia2  ia3       avg\n",
       "0  2ka19cs032    pavan    5  156  167  180  167.6670\n",
       "1  2ka19cs033    pooja    5  165  164  134  154.3330\n",
       "2  2ka19cs034   prasad    5  112  121  142  125.0000\n",
       "3  2ka19cs035   pratap    5  167  134  164  155.0000\n",
       "4  2ka19cs036  pruthvi    5  145  119  113  125.6667"
      ]
     },
     "execution_count": 31,
     "metadata": {},
     "output_type": "execute_result"
    }
   ],
   "source": [
    "copydf"
   ]
  },
  {
   "cell_type": "code",
   "execution_count": 32,
   "id": "7f2201d1",
   "metadata": {},
   "outputs": [
    {
     "data": {
      "text/html": [
       "<div>\n",
       "<style scoped>\n",
       "    .dataframe tbody tr th:only-of-type {\n",
       "        vertical-align: middle;\n",
       "    }\n",
       "\n",
       "    .dataframe tbody tr th {\n",
       "        vertical-align: top;\n",
       "    }\n",
       "\n",
       "    .dataframe thead th {\n",
       "        text-align: right;\n",
       "    }\n",
       "</style>\n",
       "<table border=\"1\" class=\"dataframe\">\n",
       "  <thead>\n",
       "    <tr style=\"text-align: right;\">\n",
       "      <th></th>\n",
       "      <th>usn</th>\n",
       "      <th>name</th>\n",
       "      <th>sem</th>\n",
       "      <th>ia1</th>\n",
       "      <th>ia2</th>\n",
       "      <th>ia3</th>\n",
       "      <th>avg</th>\n",
       "    </tr>\n",
       "  </thead>\n",
       "  <tbody>\n",
       "    <tr>\n",
       "      <th>1</th>\n",
       "      <td>2ka19cs033</td>\n",
       "      <td>pooja</td>\n",
       "      <td>5</td>\n",
       "      <td>165</td>\n",
       "      <td>164</td>\n",
       "      <td>134</td>\n",
       "      <td>154.3330</td>\n",
       "    </tr>\n",
       "    <tr>\n",
       "      <th>2</th>\n",
       "      <td>2ka19cs034</td>\n",
       "      <td>prasad</td>\n",
       "      <td>5</td>\n",
       "      <td>112</td>\n",
       "      <td>121</td>\n",
       "      <td>142</td>\n",
       "      <td>125.0000</td>\n",
       "    </tr>\n",
       "    <tr>\n",
       "      <th>3</th>\n",
       "      <td>2ka19cs035</td>\n",
       "      <td>pratap</td>\n",
       "      <td>5</td>\n",
       "      <td>167</td>\n",
       "      <td>134</td>\n",
       "      <td>164</td>\n",
       "      <td>155.0000</td>\n",
       "    </tr>\n",
       "    <tr>\n",
       "      <th>4</th>\n",
       "      <td>2ka19cs036</td>\n",
       "      <td>pruthvi</td>\n",
       "      <td>5</td>\n",
       "      <td>145</td>\n",
       "      <td>119</td>\n",
       "      <td>113</td>\n",
       "      <td>125.6667</td>\n",
       "    </tr>\n",
       "  </tbody>\n",
       "</table>\n",
       "</div>"
      ],
      "text/plain": [
       "          usn     name  sem  ia1  ia2  ia3       avg\n",
       "1  2ka19cs033    pooja    5  165  164  134  154.3330\n",
       "2  2ka19cs034   prasad    5  112  121  142  125.0000\n",
       "3  2ka19cs035   pratap    5  167  134  164  155.0000\n",
       "4  2ka19cs036  pruthvi    5  145  119  113  125.6667"
      ]
     },
     "execution_count": 32,
     "metadata": {},
     "output_type": "execute_result"
    }
   ],
   "source": [
    "copydf.drop(0)"
   ]
  },
  {
   "cell_type": "code",
   "execution_count": 33,
   "id": "9aa995c6",
   "metadata": {},
   "outputs": [
    {
     "data": {
      "text/html": [
       "<div>\n",
       "<style scoped>\n",
       "    .dataframe tbody tr th:only-of-type {\n",
       "        vertical-align: middle;\n",
       "    }\n",
       "\n",
       "    .dataframe tbody tr th {\n",
       "        vertical-align: top;\n",
       "    }\n",
       "\n",
       "    .dataframe thead th {\n",
       "        text-align: right;\n",
       "    }\n",
       "</style>\n",
       "<table border=\"1\" class=\"dataframe\">\n",
       "  <thead>\n",
       "    <tr style=\"text-align: right;\">\n",
       "      <th></th>\n",
       "      <th>usn</th>\n",
       "      <th>name</th>\n",
       "      <th>sem</th>\n",
       "      <th>ia1</th>\n",
       "      <th>ia2</th>\n",
       "      <th>ia3</th>\n",
       "    </tr>\n",
       "  </thead>\n",
       "  <tbody>\n",
       "    <tr>\n",
       "      <th>0</th>\n",
       "      <td>2ka19cs032</td>\n",
       "      <td>pavan</td>\n",
       "      <td>5</td>\n",
       "      <td>156</td>\n",
       "      <td>167</td>\n",
       "      <td>180</td>\n",
       "    </tr>\n",
       "    <tr>\n",
       "      <th>1</th>\n",
       "      <td>2ka19cs033</td>\n",
       "      <td>pooja</td>\n",
       "      <td>5</td>\n",
       "      <td>165</td>\n",
       "      <td>164</td>\n",
       "      <td>134</td>\n",
       "    </tr>\n",
       "    <tr>\n",
       "      <th>2</th>\n",
       "      <td>2ka19cs034</td>\n",
       "      <td>prasad</td>\n",
       "      <td>5</td>\n",
       "      <td>112</td>\n",
       "      <td>121</td>\n",
       "      <td>142</td>\n",
       "    </tr>\n",
       "    <tr>\n",
       "      <th>3</th>\n",
       "      <td>2ka19cs035</td>\n",
       "      <td>pratap</td>\n",
       "      <td>5</td>\n",
       "      <td>167</td>\n",
       "      <td>134</td>\n",
       "      <td>164</td>\n",
       "    </tr>\n",
       "    <tr>\n",
       "      <th>4</th>\n",
       "      <td>2ka19cs036</td>\n",
       "      <td>pruthvi</td>\n",
       "      <td>5</td>\n",
       "      <td>145</td>\n",
       "      <td>119</td>\n",
       "      <td>113</td>\n",
       "    </tr>\n",
       "  </tbody>\n",
       "</table>\n",
       "</div>"
      ],
      "text/plain": [
       "          usn     name  sem  ia1  ia2  ia3\n",
       "0  2ka19cs032    pavan    5  156  167  180\n",
       "1  2ka19cs033    pooja    5  165  164  134\n",
       "2  2ka19cs034   prasad    5  112  121  142\n",
       "3  2ka19cs035   pratap    5  167  134  164\n",
       "4  2ka19cs036  pruthvi    5  145  119  113"
      ]
     },
     "execution_count": 33,
     "metadata": {},
     "output_type": "execute_result"
    }
   ],
   "source": [
    "copydf.drop('avg', axis=1)"
   ]
  },
  {
   "cell_type": "code",
   "execution_count": 34,
   "id": "c68b68f7",
   "metadata": {},
   "outputs": [
    {
     "data": {
      "text/html": [
       "<div>\n",
       "<style scoped>\n",
       "    .dataframe tbody tr th:only-of-type {\n",
       "        vertical-align: middle;\n",
       "    }\n",
       "\n",
       "    .dataframe tbody tr th {\n",
       "        vertical-align: top;\n",
       "    }\n",
       "\n",
       "    .dataframe thead th {\n",
       "        text-align: right;\n",
       "    }\n",
       "</style>\n",
       "<table border=\"1\" class=\"dataframe\">\n",
       "  <thead>\n",
       "    <tr style=\"text-align: right;\">\n",
       "      <th></th>\n",
       "      <th>usn</th>\n",
       "      <th>name</th>\n",
       "      <th>sem</th>\n",
       "      <th>ia1</th>\n",
       "      <th>ia2</th>\n",
       "      <th>ia3</th>\n",
       "      <th>avg</th>\n",
       "    </tr>\n",
       "  </thead>\n",
       "  <tbody>\n",
       "    <tr>\n",
       "      <th>0</th>\n",
       "      <td>2ka19cs032</td>\n",
       "      <td>pavan</td>\n",
       "      <td>5</td>\n",
       "      <td>156</td>\n",
       "      <td>167</td>\n",
       "      <td>180</td>\n",
       "      <td>167.6670</td>\n",
       "    </tr>\n",
       "    <tr>\n",
       "      <th>1</th>\n",
       "      <td>2ka19cs033</td>\n",
       "      <td>pooja</td>\n",
       "      <td>5</td>\n",
       "      <td>165</td>\n",
       "      <td>164</td>\n",
       "      <td>134</td>\n",
       "      <td>154.3330</td>\n",
       "    </tr>\n",
       "    <tr>\n",
       "      <th>2</th>\n",
       "      <td>2ka19cs034</td>\n",
       "      <td>prasad</td>\n",
       "      <td>5</td>\n",
       "      <td>112</td>\n",
       "      <td>121</td>\n",
       "      <td>142</td>\n",
       "      <td>125.0000</td>\n",
       "    </tr>\n",
       "    <tr>\n",
       "      <th>3</th>\n",
       "      <td>2ka19cs035</td>\n",
       "      <td>pratap</td>\n",
       "      <td>5</td>\n",
       "      <td>167</td>\n",
       "      <td>134</td>\n",
       "      <td>164</td>\n",
       "      <td>155.0000</td>\n",
       "    </tr>\n",
       "    <tr>\n",
       "      <th>4</th>\n",
       "      <td>2ka19cs036</td>\n",
       "      <td>pruthvi</td>\n",
       "      <td>5</td>\n",
       "      <td>145</td>\n",
       "      <td>119</td>\n",
       "      <td>113</td>\n",
       "      <td>125.6667</td>\n",
       "    </tr>\n",
       "  </tbody>\n",
       "</table>\n",
       "</div>"
      ],
      "text/plain": [
       "          usn     name  sem  ia1  ia2  ia3       avg\n",
       "0  2ka19cs032    pavan    5  156  167  180  167.6670\n",
       "1  2ka19cs033    pooja    5  165  164  134  154.3330\n",
       "2  2ka19cs034   prasad    5  112  121  142  125.0000\n",
       "3  2ka19cs035   pratap    5  167  134  164  155.0000\n",
       "4  2ka19cs036  pruthvi    5  145  119  113  125.6667"
      ]
     },
     "execution_count": 34,
     "metadata": {},
     "output_type": "execute_result"
    }
   ],
   "source": [
    "df"
   ]
  },
  {
   "cell_type": "code",
   "execution_count": 35,
   "id": "597ae3eb",
   "metadata": {},
   "outputs": [
    {
     "data": {
      "text/html": [
       "<div>\n",
       "<style scoped>\n",
       "    .dataframe tbody tr th:only-of-type {\n",
       "        vertical-align: middle;\n",
       "    }\n",
       "\n",
       "    .dataframe tbody tr th {\n",
       "        vertical-align: top;\n",
       "    }\n",
       "\n",
       "    .dataframe thead th {\n",
       "        text-align: right;\n",
       "    }\n",
       "</style>\n",
       "<table border=\"1\" class=\"dataframe\">\n",
       "  <thead>\n",
       "    <tr style=\"text-align: right;\">\n",
       "      <th></th>\n",
       "      <th>usn</th>\n",
       "      <th>name</th>\n",
       "      <th>sem</th>\n",
       "      <th>ia1</th>\n",
       "      <th>ia2</th>\n",
       "      <th>ia3</th>\n",
       "      <th>avg</th>\n",
       "    </tr>\n",
       "  </thead>\n",
       "  <tbody>\n",
       "    <tr>\n",
       "      <th>0</th>\n",
       "      <td>2ka19cs032</td>\n",
       "      <td>pavan</td>\n",
       "      <td>5</td>\n",
       "      <td>156</td>\n",
       "      <td>167</td>\n",
       "      <td>180</td>\n",
       "      <td>167.667</td>\n",
       "    </tr>\n",
       "    <tr>\n",
       "      <th>1</th>\n",
       "      <td>2ka19cs033</td>\n",
       "      <td>pooja</td>\n",
       "      <td>5</td>\n",
       "      <td>165</td>\n",
       "      <td>164</td>\n",
       "      <td>134</td>\n",
       "      <td>154.333</td>\n",
       "    </tr>\n",
       "    <tr>\n",
       "      <th>2</th>\n",
       "      <td>2ka19cs034</td>\n",
       "      <td>prasad</td>\n",
       "      <td>5</td>\n",
       "      <td>112</td>\n",
       "      <td>121</td>\n",
       "      <td>142</td>\n",
       "      <td>125.000</td>\n",
       "    </tr>\n",
       "  </tbody>\n",
       "</table>\n",
       "</div>"
      ],
      "text/plain": [
       "          usn    name  sem  ia1  ia2  ia3      avg\n",
       "0  2ka19cs032   pavan    5  156  167  180  167.667\n",
       "1  2ka19cs033   pooja    5  165  164  134  154.333\n",
       "2  2ka19cs034  prasad    5  112  121  142  125.000"
      ]
     },
     "execution_count": 35,
     "metadata": {},
     "output_type": "execute_result"
    }
   ],
   "source": [
    "df.loc[0:2]"
   ]
  },
  {
   "cell_type": "code",
   "execution_count": 36,
   "id": "7771e621",
   "metadata": {},
   "outputs": [
    {
     "data": {
      "text/html": [
       "<div>\n",
       "<style scoped>\n",
       "    .dataframe tbody tr th:only-of-type {\n",
       "        vertical-align: middle;\n",
       "    }\n",
       "\n",
       "    .dataframe tbody tr th {\n",
       "        vertical-align: top;\n",
       "    }\n",
       "\n",
       "    .dataframe thead th {\n",
       "        text-align: right;\n",
       "    }\n",
       "</style>\n",
       "<table border=\"1\" class=\"dataframe\">\n",
       "  <thead>\n",
       "    <tr style=\"text-align: right;\">\n",
       "      <th></th>\n",
       "      <th>usn</th>\n",
       "      <th>name</th>\n",
       "      <th>sem</th>\n",
       "      <th>ia1</th>\n",
       "      <th>ia2</th>\n",
       "      <th>ia3</th>\n",
       "      <th>avg</th>\n",
       "    </tr>\n",
       "  </thead>\n",
       "  <tbody>\n",
       "    <tr>\n",
       "      <th>2</th>\n",
       "      <td>2ka19cs034</td>\n",
       "      <td>prasad</td>\n",
       "      <td>5</td>\n",
       "      <td>112</td>\n",
       "      <td>121</td>\n",
       "      <td>142</td>\n",
       "      <td>125.0000</td>\n",
       "    </tr>\n",
       "    <tr>\n",
       "      <th>3</th>\n",
       "      <td>2ka19cs035</td>\n",
       "      <td>pratap</td>\n",
       "      <td>5</td>\n",
       "      <td>167</td>\n",
       "      <td>134</td>\n",
       "      <td>164</td>\n",
       "      <td>155.0000</td>\n",
       "    </tr>\n",
       "    <tr>\n",
       "      <th>4</th>\n",
       "      <td>2ka19cs036</td>\n",
       "      <td>pruthvi</td>\n",
       "      <td>5</td>\n",
       "      <td>145</td>\n",
       "      <td>119</td>\n",
       "      <td>113</td>\n",
       "      <td>125.6667</td>\n",
       "    </tr>\n",
       "  </tbody>\n",
       "</table>\n",
       "</div>"
      ],
      "text/plain": [
       "          usn     name  sem  ia1  ia2  ia3       avg\n",
       "2  2ka19cs034   prasad    5  112  121  142  125.0000\n",
       "3  2ka19cs035   pratap    5  167  134  164  155.0000\n",
       "4  2ka19cs036  pruthvi    5  145  119  113  125.6667"
      ]
     },
     "execution_count": 36,
     "metadata": {},
     "output_type": "execute_result"
    }
   ],
   "source": [
    "df.loc[2:]"
   ]
  },
  {
   "cell_type": "code",
   "execution_count": 37,
   "id": "934517e4",
   "metadata": {},
   "outputs": [
    {
     "data": {
      "text/html": [
       "<div>\n",
       "<style scoped>\n",
       "    .dataframe tbody tr th:only-of-type {\n",
       "        vertical-align: middle;\n",
       "    }\n",
       "\n",
       "    .dataframe tbody tr th {\n",
       "        vertical-align: top;\n",
       "    }\n",
       "\n",
       "    .dataframe thead th {\n",
       "        text-align: right;\n",
       "    }\n",
       "</style>\n",
       "<table border=\"1\" class=\"dataframe\">\n",
       "  <thead>\n",
       "    <tr style=\"text-align: right;\">\n",
       "      <th></th>\n",
       "      <th>usn</th>\n",
       "      <th>name</th>\n",
       "    </tr>\n",
       "  </thead>\n",
       "  <tbody>\n",
       "    <tr>\n",
       "      <th>0</th>\n",
       "      <td>2ka19cs032</td>\n",
       "      <td>pavan</td>\n",
       "    </tr>\n",
       "    <tr>\n",
       "      <th>1</th>\n",
       "      <td>2ka19cs033</td>\n",
       "      <td>pooja</td>\n",
       "    </tr>\n",
       "  </tbody>\n",
       "</table>\n",
       "</div>"
      ],
      "text/plain": [
       "          usn   name\n",
       "0  2ka19cs032  pavan\n",
       "1  2ka19cs033  pooja"
      ]
     },
     "execution_count": 37,
     "metadata": {},
     "output_type": "execute_result"
    }
   ],
   "source": [
    "df.loc[[0,1], ['usn', 'name']]"
   ]
  },
  {
   "cell_type": "code",
   "execution_count": 38,
   "id": "c802d8c4",
   "metadata": {},
   "outputs": [
    {
     "data": {
      "text/html": [
       "<div>\n",
       "<style scoped>\n",
       "    .dataframe tbody tr th:only-of-type {\n",
       "        vertical-align: middle;\n",
       "    }\n",
       "\n",
       "    .dataframe tbody tr th {\n",
       "        vertical-align: top;\n",
       "    }\n",
       "\n",
       "    .dataframe thead th {\n",
       "        text-align: right;\n",
       "    }\n",
       "</style>\n",
       "<table border=\"1\" class=\"dataframe\">\n",
       "  <thead>\n",
       "    <tr style=\"text-align: right;\">\n",
       "      <th></th>\n",
       "      <th>sem</th>\n",
       "    </tr>\n",
       "  </thead>\n",
       "  <tbody>\n",
       "    <tr>\n",
       "      <th>0</th>\n",
       "      <td>5</td>\n",
       "    </tr>\n",
       "    <tr>\n",
       "      <th>4</th>\n",
       "      <td>5</td>\n",
       "    </tr>\n",
       "    <tr>\n",
       "      <th>1</th>\n",
       "      <td>5</td>\n",
       "    </tr>\n",
       "  </tbody>\n",
       "</table>\n",
       "</div>"
      ],
      "text/plain": [
       "   sem\n",
       "0    5\n",
       "4    5\n",
       "1    5"
      ]
     },
     "execution_count": 38,
     "metadata": {},
     "output_type": "execute_result"
    }
   ],
   "source": [
    "df.loc[[0,4,1], ['sem']]"
   ]
  },
  {
   "cell_type": "markdown",
   "id": "c13ac7af",
   "metadata": {},
   "source": [
    "# running queries "
   ]
  },
  {
   "cell_type": "code",
   "execution_count": 39,
   "id": "e3513608",
   "metadata": {},
   "outputs": [
    {
     "data": {
      "text/html": [
       "<div>\n",
       "<style scoped>\n",
       "    .dataframe tbody tr th:only-of-type {\n",
       "        vertical-align: middle;\n",
       "    }\n",
       "\n",
       "    .dataframe tbody tr th {\n",
       "        vertical-align: top;\n",
       "    }\n",
       "\n",
       "    .dataframe thead th {\n",
       "        text-align: right;\n",
       "    }\n",
       "</style>\n",
       "<table border=\"1\" class=\"dataframe\">\n",
       "  <thead>\n",
       "    <tr style=\"text-align: right;\">\n",
       "      <th></th>\n",
       "      <th>usn</th>\n",
       "      <th>name</th>\n",
       "      <th>sem</th>\n",
       "      <th>ia1</th>\n",
       "      <th>ia2</th>\n",
       "      <th>ia3</th>\n",
       "      <th>avg</th>\n",
       "    </tr>\n",
       "  </thead>\n",
       "  <tbody>\n",
       "    <tr>\n",
       "      <th>0</th>\n",
       "      <td>2ka19cs032</td>\n",
       "      <td>pavan</td>\n",
       "      <td>5</td>\n",
       "      <td>156</td>\n",
       "      <td>167</td>\n",
       "      <td>180</td>\n",
       "      <td>167.667</td>\n",
       "    </tr>\n",
       "    <tr>\n",
       "      <th>1</th>\n",
       "      <td>2ka19cs033</td>\n",
       "      <td>pooja</td>\n",
       "      <td>5</td>\n",
       "      <td>165</td>\n",
       "      <td>164</td>\n",
       "      <td>134</td>\n",
       "      <td>154.333</td>\n",
       "    </tr>\n",
       "    <tr>\n",
       "      <th>3</th>\n",
       "      <td>2ka19cs035</td>\n",
       "      <td>pratap</td>\n",
       "      <td>5</td>\n",
       "      <td>167</td>\n",
       "      <td>134</td>\n",
       "      <td>164</td>\n",
       "      <td>155.000</td>\n",
       "    </tr>\n",
       "  </tbody>\n",
       "</table>\n",
       "</div>"
      ],
      "text/plain": [
       "          usn    name  sem  ia1  ia2  ia3      avg\n",
       "0  2ka19cs032   pavan    5  156  167  180  167.667\n",
       "1  2ka19cs033   pooja    5  165  164  134  154.333\n",
       "3  2ka19cs035  pratap    5  167  134  164  155.000"
      ]
     },
     "execution_count": 39,
     "metadata": {},
     "output_type": "execute_result"
    }
   ],
   "source": [
    "df.loc[(df['ia1']>100) & (df['avg']>150)]"
   ]
  },
  {
   "cell_type": "code",
   "execution_count": 40,
   "id": "885aa559",
   "metadata": {},
   "outputs": [
    {
     "data": {
      "text/html": [
       "<div>\n",
       "<style scoped>\n",
       "    .dataframe tbody tr th:only-of-type {\n",
       "        vertical-align: middle;\n",
       "    }\n",
       "\n",
       "    .dataframe tbody tr th {\n",
       "        vertical-align: top;\n",
       "    }\n",
       "\n",
       "    .dataframe thead th {\n",
       "        text-align: right;\n",
       "    }\n",
       "</style>\n",
       "<table border=\"1\" class=\"dataframe\">\n",
       "  <thead>\n",
       "    <tr style=\"text-align: right;\">\n",
       "      <th></th>\n",
       "      <th>usn</th>\n",
       "      <th>name</th>\n",
       "      <th>sem</th>\n",
       "      <th>ia1</th>\n",
       "      <th>ia2</th>\n",
       "      <th>ia3</th>\n",
       "      <th>avg</th>\n",
       "    </tr>\n",
       "  </thead>\n",
       "  <tbody>\n",
       "    <tr>\n",
       "      <th>0</th>\n",
       "      <td>2ka19cs032</td>\n",
       "      <td>pavan</td>\n",
       "      <td>5</td>\n",
       "      <td>156</td>\n",
       "      <td>167</td>\n",
       "      <td>180</td>\n",
       "      <td>167.667</td>\n",
       "    </tr>\n",
       "  </tbody>\n",
       "</table>\n",
       "</div>"
      ],
      "text/plain": [
       "          usn   name  sem  ia1  ia2  ia3      avg\n",
       "0  2ka19cs032  pavan    5  156  167  180  167.667"
      ]
     },
     "execution_count": 40,
     "metadata": {},
     "output_type": "execute_result"
    }
   ],
   "source": [
    "df.loc[(df['usn']=='2ka19cs032')]"
   ]
  },
  {
   "cell_type": "markdown",
   "id": "7827565d",
   "metadata": {},
   "source": [
    "# indexing with iloc[]"
   ]
  },
  {
   "cell_type": "code",
   "execution_count": 41,
   "id": "41d77431",
   "metadata": {},
   "outputs": [],
   "source": [
    "#df.loc[0,0]  will give error"
   ]
  },
  {
   "cell_type": "code",
   "execution_count": 42,
   "id": "ff8b8462",
   "metadata": {},
   "outputs": [
    {
     "data": {
      "text/plain": [
       "'2ka19cs032'"
      ]
     },
     "execution_count": 42,
     "metadata": {},
     "output_type": "execute_result"
    }
   ],
   "source": [
    "df.iloc[0,0]"
   ]
  },
  {
   "cell_type": "code",
   "execution_count": 43,
   "id": "5a23d1d7",
   "metadata": {},
   "outputs": [
    {
     "data": {
      "text/plain": [
       "'pavan'"
      ]
     },
     "execution_count": 43,
     "metadata": {},
     "output_type": "execute_result"
    }
   ],
   "source": [
    "df.iloc[0,1]"
   ]
  },
  {
   "cell_type": "code",
   "execution_count": 44,
   "id": "7d3e1167",
   "metadata": {},
   "outputs": [
    {
     "data": {
      "text/plain": [
       "'2ka19cs033'"
      ]
     },
     "execution_count": 44,
     "metadata": {},
     "output_type": "execute_result"
    }
   ],
   "source": [
    "df.iloc[1,0]"
   ]
  },
  {
   "cell_type": "code",
   "execution_count": 45,
   "id": "8ebcb028",
   "metadata": {},
   "outputs": [
    {
     "data": {
      "text/plain": [
       "'pooja'"
      ]
     },
     "execution_count": 45,
     "metadata": {},
     "output_type": "execute_result"
    }
   ],
   "source": [
    "df.iloc[1,1]"
   ]
  },
  {
   "cell_type": "code",
   "execution_count": 47,
   "id": "c44d171d",
   "metadata": {},
   "outputs": [
    {
     "data": {
      "text/html": [
       "<div>\n",
       "<style scoped>\n",
       "    .dataframe tbody tr th:only-of-type {\n",
       "        vertical-align: middle;\n",
       "    }\n",
       "\n",
       "    .dataframe tbody tr th {\n",
       "        vertical-align: top;\n",
       "    }\n",
       "\n",
       "    .dataframe thead th {\n",
       "        text-align: right;\n",
       "    }\n",
       "</style>\n",
       "<table border=\"1\" class=\"dataframe\">\n",
       "  <thead>\n",
       "    <tr style=\"text-align: right;\">\n",
       "      <th></th>\n",
       "      <th>usn</th>\n",
       "      <th>name</th>\n",
       "      <th>sem</th>\n",
       "    </tr>\n",
       "  </thead>\n",
       "  <tbody>\n",
       "    <tr>\n",
       "      <th>0</th>\n",
       "      <td>2ka19cs032</td>\n",
       "      <td>pavan</td>\n",
       "      <td>5</td>\n",
       "    </tr>\n",
       "    <tr>\n",
       "      <th>1</th>\n",
       "      <td>2ka19cs033</td>\n",
       "      <td>pooja</td>\n",
       "      <td>5</td>\n",
       "    </tr>\n",
       "  </tbody>\n",
       "</table>\n",
       "</div>"
      ],
      "text/plain": [
       "          usn   name  sem\n",
       "0  2ka19cs032  pavan    5\n",
       "1  2ka19cs033  pooja    5"
      ]
     },
     "execution_count": 47,
     "metadata": {},
     "output_type": "execute_result"
    }
   ],
   "source": [
    "df.iloc[[0,1,], [0,1,2]]"
   ]
  },
  {
   "cell_type": "code",
   "execution_count": null,
   "id": "ea191fc7",
   "metadata": {},
   "outputs": [],
   "source": []
  }
 ],
 "metadata": {
  "kernelspec": {
   "display_name": "Python 3 (ipykernel)",
   "language": "python",
   "name": "python3"
  },
  "language_info": {
   "codemirror_mode": {
    "name": "ipython",
    "version": 3
   },
   "file_extension": ".py",
   "mimetype": "text/x-python",
   "name": "python",
   "nbconvert_exporter": "python",
   "pygments_lexer": "ipython3",
   "version": "3.9.7"
  }
 },
 "nbformat": 4,
 "nbformat_minor": 5
}
