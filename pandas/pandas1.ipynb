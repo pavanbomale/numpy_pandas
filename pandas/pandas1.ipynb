{
 "cells": [
  {
   "cell_type": "markdown",
   "id": "ec6e8ca1",
   "metadata": {},
   "source": [
    "# exporting to CSV"
   ]
  },
  {
   "cell_type": "code",
   "execution_count": 1,
   "id": "2a5bc45a",
   "metadata": {},
   "outputs": [],
   "source": [
    "import pandas as pd"
   ]
  },
  {
   "cell_type": "code",
   "execution_count": 2,
   "id": "bff1bdb1",
   "metadata": {},
   "outputs": [],
   "source": [
    "dict1 = {\n",
    "    'usn':['2ka19cs032','2ka19cs033','2ka19cs034','2ka19cs035','2ka19cs036'],\n",
    "    'name':['pavan','pooja','prasad','pratap','pruthvi'],\n",
    "    'sem':[5,5,5,5,5,],\n",
    "    'ia1':[156,165,112,167,145],\n",
    "    'ia2':[167,164,121,134,119],\n",
    "    'ia3':[180,134,142,164,113],\n",
    "    'avg':[167.667,154.333,125,155,125.6667]\n",
    "}"
   ]
  },
  {
   "cell_type": "code",
   "execution_count": 3,
   "id": "b55623ff",
   "metadata": {},
   "outputs": [],
   "source": [
    "df = pd.DataFrame(dict1)"
   ]
  },
  {
   "cell_type": "code",
   "execution_count": 4,
   "id": "7decb6de",
   "metadata": {},
   "outputs": [
    {
     "data": {
      "text/html": [
       "<div>\n",
       "<style scoped>\n",
       "    .dataframe tbody tr th:only-of-type {\n",
       "        vertical-align: middle;\n",
       "    }\n",
       "\n",
       "    .dataframe tbody tr th {\n",
       "        vertical-align: top;\n",
       "    }\n",
       "\n",
       "    .dataframe thead th {\n",
       "        text-align: right;\n",
       "    }\n",
       "</style>\n",
       "<table border=\"1\" class=\"dataframe\">\n",
       "  <thead>\n",
       "    <tr style=\"text-align: right;\">\n",
       "      <th></th>\n",
       "      <th>usn</th>\n",
       "      <th>name</th>\n",
       "      <th>sem</th>\n",
       "      <th>ia1</th>\n",
       "      <th>ia2</th>\n",
       "      <th>ia3</th>\n",
       "      <th>avg</th>\n",
       "    </tr>\n",
       "  </thead>\n",
       "  <tbody>\n",
       "    <tr>\n",
       "      <th>0</th>\n",
       "      <td>2ka19cs032</td>\n",
       "      <td>pavan</td>\n",
       "      <td>5</td>\n",
       "      <td>156</td>\n",
       "      <td>167</td>\n",
       "      <td>180</td>\n",
       "      <td>167.6670</td>\n",
       "    </tr>\n",
       "    <tr>\n",
       "      <th>1</th>\n",
       "      <td>2ka19cs033</td>\n",
       "      <td>pooja</td>\n",
       "      <td>5</td>\n",
       "      <td>165</td>\n",
       "      <td>164</td>\n",
       "      <td>134</td>\n",
       "      <td>154.3330</td>\n",
       "    </tr>\n",
       "    <tr>\n",
       "      <th>2</th>\n",
       "      <td>2ka19cs034</td>\n",
       "      <td>prasad</td>\n",
       "      <td>5</td>\n",
       "      <td>112</td>\n",
       "      <td>121</td>\n",
       "      <td>142</td>\n",
       "      <td>125.0000</td>\n",
       "    </tr>\n",
       "    <tr>\n",
       "      <th>3</th>\n",
       "      <td>2ka19cs035</td>\n",
       "      <td>pratap</td>\n",
       "      <td>5</td>\n",
       "      <td>167</td>\n",
       "      <td>134</td>\n",
       "      <td>164</td>\n",
       "      <td>155.0000</td>\n",
       "    </tr>\n",
       "    <tr>\n",
       "      <th>4</th>\n",
       "      <td>2ka19cs036</td>\n",
       "      <td>pruthvi</td>\n",
       "      <td>5</td>\n",
       "      <td>145</td>\n",
       "      <td>119</td>\n",
       "      <td>113</td>\n",
       "      <td>125.6667</td>\n",
       "    </tr>\n",
       "  </tbody>\n",
       "</table>\n",
       "</div>"
      ],
      "text/plain": [
       "          usn     name  sem  ia1  ia2  ia3       avg\n",
       "0  2ka19cs032    pavan    5  156  167  180  167.6670\n",
       "1  2ka19cs033    pooja    5  165  164  134  154.3330\n",
       "2  2ka19cs034   prasad    5  112  121  142  125.0000\n",
       "3  2ka19cs035   pratap    5  167  134  164  155.0000\n",
       "4  2ka19cs036  pruthvi    5  145  119  113  125.6667"
      ]
     },
     "execution_count": 4,
     "metadata": {},
     "output_type": "execute_result"
    }
   ],
   "source": [
    "df"
   ]
  },
  {
   "cell_type": "code",
   "execution_count": 5,
   "id": "256d7933",
   "metadata": {},
   "outputs": [],
   "source": [
    "df.to_csv('students.csv')"
   ]
  },
  {
   "cell_type": "code",
   "execution_count": 6,
   "id": "8385c7d8",
   "metadata": {},
   "outputs": [],
   "source": [
    "df.to_csv('students_index_False.csv', index=False)"
   ]
  },
  {
   "cell_type": "code",
   "execution_count": 12,
   "id": "0af4bcde",
   "metadata": {},
   "outputs": [
    {
     "data": {
      "text/plain": [
       "'pavan'"
      ]
     },
     "execution_count": 12,
     "metadata": {},
     "output_type": "execute_result"
    }
   ],
   "source": [
    "df['name'][0]"
   ]
  }
 ],
 "metadata": {
  "kernelspec": {
   "display_name": "Python 3 (ipykernel)",
   "language": "python",
   "name": "python3"
  },
  "language_info": {
   "codemirror_mode": {
    "name": "ipython",
    "version": 3
   },
   "file_extension": ".py",
   "mimetype": "text/x-python",
   "name": "python",
   "nbconvert_exporter": "python",
   "pygments_lexer": "ipython3",
   "version": "3.9.7"
  }
 },
 "nbformat": 4,
 "nbformat_minor": 5
}
