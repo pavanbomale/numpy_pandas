{
 "cells": [
  {
   "cell_type": "markdown",
   "id": "653284d1",
   "metadata": {},
   "source": [
    "# numpy tutorial cwh"
   ]
  },
  {
   "cell_type": "code",
   "execution_count": null,
   "id": "b95c9e0b",
   "metadata": {},
   "outputs": [],
   "source": [
    "import numpy as np"
   ]
  },
  {
   "cell_type": "code",
   "execution_count": null,
   "id": "142d5660",
   "metadata": {},
   "outputs": [],
   "source": [
    "listarr = np.array([2,4,6,8])"
   ]
  },
  {
   "cell_type": "code",
   "execution_count": null,
   "id": "0280d4fe",
   "metadata": {},
   "outputs": [],
   "source": [
    "tuparr = np.array((1,3,5,7,))"
   ]
  },
  {
   "cell_type": "code",
   "execution_count": null,
   "id": "d4c0d5af",
   "metadata": {},
   "outputs": [],
   "source": [
    "dictarr = np.array({'name':'pavan', 'age':21})"
   ]
  },
  {
   "cell_type": "code",
   "execution_count": null,
   "id": "34590b42",
   "metadata": {},
   "outputs": [],
   "source": [
    "listarr"
   ]
  },
  {
   "cell_type": "code",
   "execution_count": null,
   "id": "871ece6a",
   "metadata": {},
   "outputs": [],
   "source": [
    "tuparr"
   ]
  },
  {
   "cell_type": "code",
   "execution_count": null,
   "id": "d5fffa9f",
   "metadata": {},
   "outputs": [],
   "source": [
    "dictarr"
   ]
  },
  {
   "cell_type": "code",
   "execution_count": null,
   "id": "422d0bca",
   "metadata": {},
   "outputs": [],
   "source": [
    "listarr.size"
   ]
  },
  {
   "cell_type": "code",
   "execution_count": null,
   "id": "45214719",
   "metadata": {},
   "outputs": [],
   "source": [
    "matrix = np.array([[1,2,3], [4,5,6], [7,8,9]])"
   ]
  },
  {
   "cell_type": "code",
   "execution_count": null,
   "id": "fdb8ec2e",
   "metadata": {},
   "outputs": [],
   "source": [
    "matrix"
   ]
  },
  {
   "cell_type": "code",
   "execution_count": null,
   "id": "a2eb2398",
   "metadata": {},
   "outputs": [],
   "source": [
    "matrix.shape"
   ]
  },
  {
   "cell_type": "code",
   "execution_count": null,
   "id": "9dcba348",
   "metadata": {},
   "outputs": [],
   "source": [
    "matrix.size"
   ]
  },
  {
   "cell_type": "code",
   "execution_count": null,
   "id": "74c81eae",
   "metadata": {},
   "outputs": [],
   "source": [
    "matrix.dtype"
   ]
  },
  {
   "cell_type": "code",
   "execution_count": null,
   "id": "072ea607",
   "metadata": {},
   "outputs": [],
   "source": [
    "listarr.dtype"
   ]
  },
  {
   "cell_type": "code",
   "execution_count": null,
   "id": "8ce54a35",
   "metadata": {},
   "outputs": [],
   "source": [
    "array64 = np.array([566,9786,79877], np.int64)"
   ]
  },
  {
   "cell_type": "code",
   "execution_count": null,
   "id": "31edf4ff",
   "metadata": {},
   "outputs": [],
   "source": [
    "array64"
   ]
  },
  {
   "cell_type": "markdown",
   "id": "4a642e9c",
   "metadata": {},
   "source": [
    "# INDEXING"
   ]
  },
  {
   "cell_type": "code",
   "execution_count": null,
   "id": "01959d7b",
   "metadata": {},
   "outputs": [],
   "source": [
    "listarr[0]"
   ]
  },
  {
   "cell_type": "code",
   "execution_count": null,
   "id": "6b656b02",
   "metadata": {},
   "outputs": [],
   "source": [
    "listarr[0:2]"
   ]
  },
  {
   "cell_type": "code",
   "execution_count": null,
   "id": "cba15a18",
   "metadata": {},
   "outputs": [],
   "source": [
    "tuparr[3]"
   ]
  },
  {
   "cell_type": "code",
   "execution_count": null,
   "id": "a2631b76",
   "metadata": {},
   "outputs": [],
   "source": [
    "matrix[0]"
   ]
  },
  {
   "cell_type": "code",
   "execution_count": null,
   "id": "055aeec7",
   "metadata": {},
   "outputs": [],
   "source": [
    "matrix[1]"
   ]
  },
  {
   "cell_type": "code",
   "execution_count": null,
   "id": "9322adbb",
   "metadata": {},
   "outputs": [],
   "source": [
    "matrix[2]"
   ]
  },
  {
   "cell_type": "code",
   "execution_count": null,
   "id": "40360149",
   "metadata": {},
   "outputs": [],
   "source": [
    "matrix[0][2]"
   ]
  },
  {
   "cell_type": "code",
   "execution_count": null,
   "id": "2eaa339b",
   "metadata": {},
   "outputs": [],
   "source": [
    "matrix[0,2]"
   ]
  },
  {
   "cell_type": "code",
   "execution_count": null,
   "id": "48c58bb2",
   "metadata": {},
   "outputs": [],
   "source": [
    "matrix[2][2]"
   ]
  },
  {
   "cell_type": "code",
   "execution_count": null,
   "id": "646e9536",
   "metadata": {},
   "outputs": [],
   "source": [
    "matrix[2,2]"
   ]
  },
  {
   "cell_type": "markdown",
   "id": "39c60d41",
   "metadata": {},
   "source": [
    "# creating arrays using numpy methods"
   ]
  },
  {
   "cell_type": "code",
   "execution_count": null,
   "id": "284b1f41",
   "metadata": {},
   "outputs": [],
   "source": [
    "zeros = np.zeros(10)"
   ]
  },
  {
   "cell_type": "code",
   "execution_count": null,
   "id": "71bb95d8",
   "metadata": {},
   "outputs": [],
   "source": [
    "zeros"
   ]
  },
  {
   "cell_type": "code",
   "execution_count": null,
   "id": "7bdf1743",
   "metadata": {},
   "outputs": [],
   "source": [
    "ones = np.ones(10, np.int32)"
   ]
  },
  {
   "cell_type": "code",
   "execution_count": null,
   "id": "58f2f4a5",
   "metadata": {},
   "outputs": [],
   "source": [
    "ones"
   ]
  },
  {
   "cell_type": "code",
   "execution_count": null,
   "id": "681a4096",
   "metadata": {},
   "outputs": [],
   "source": [
    "ones_matrix = np.ones((5,5), np.int32)"
   ]
  },
  {
   "cell_type": "code",
   "execution_count": null,
   "id": "b7088ff9",
   "metadata": {},
   "outputs": [],
   "source": [
    "ones_matrix"
   ]
  },
  {
   "cell_type": "code",
   "execution_count": null,
   "id": "48de2778",
   "metadata": {},
   "outputs": [],
   "source": [
    "arange = np.arange(30)"
   ]
  },
  {
   "cell_type": "code",
   "execution_count": null,
   "id": "c2a9ac06",
   "metadata": {},
   "outputs": [],
   "source": [
    "arange"
   ]
  },
  {
   "cell_type": "code",
   "execution_count": null,
   "id": "cc8eaa0f",
   "metadata": {},
   "outputs": [],
   "source": [
    "lspace = np.linspace(1,10,4)"
   ]
  },
  {
   "cell_type": "code",
   "execution_count": null,
   "id": "ff0a50d0",
   "metadata": {},
   "outputs": [],
   "source": [
    "lspace"
   ]
  },
  {
   "cell_type": "code",
   "execution_count": null,
   "id": "1e329bb4",
   "metadata": {},
   "outputs": [],
   "source": [
    "identity = np.identity(5, np.int8)"
   ]
  },
  {
   "cell_type": "code",
   "execution_count": null,
   "id": "020fdc64",
   "metadata": {},
   "outputs": [],
   "source": [
    "identity"
   ]
  },
  {
   "cell_type": "code",
   "execution_count": null,
   "id": "7cf32850",
   "metadata": {},
   "outputs": [],
   "source": [
    "arange"
   ]
  },
  {
   "cell_type": "code",
   "execution_count": null,
   "id": "81bc8c34",
   "metadata": {},
   "outputs": [],
   "source": [
    "arange.reshape(3,10)"
   ]
  },
  {
   "cell_type": "code",
   "execution_count": null,
   "id": "8738ca24",
   "metadata": {},
   "outputs": [],
   "source": [
    "arange.reshape(5,6)"
   ]
  },
  {
   "cell_type": "code",
   "execution_count": null,
   "id": "b3e236c3",
   "metadata": {},
   "outputs": [],
   "source": [
    "arange.ravel()"
   ]
  },
  {
   "cell_type": "code",
   "execution_count": null,
   "id": "01dbb84f",
   "metadata": {},
   "outputs": [],
   "source": [
    "randarr = np.random.rand()"
   ]
  },
  {
   "cell_type": "code",
   "execution_count": null,
   "id": "506e03d4",
   "metadata": {},
   "outputs": [],
   "source": [
    "randarr"
   ]
  },
  {
   "cell_type": "code",
   "execution_count": null,
   "id": "770b2ace",
   "metadata": {},
   "outputs": [],
   "source": [
    "randarr1 = np.random.rand(3,3)"
   ]
  },
  {
   "cell_type": "code",
   "execution_count": 47,
   "id": "90a58811",
   "metadata": {},
   "outputs": [
    {
     "data": {
      "text/plain": [
       "array([[0.10452266, 0.25232629, 0.34043254],\n",
       "       [0.20513766, 0.56658528, 0.79922614],\n",
       "       [0.88155927, 0.44495584, 0.59278021]])"
      ]
     },
     "execution_count": 47,
     "metadata": {},
     "output_type": "execute_result"
    }
   ],
   "source": [
    "randarr1"
   ]
  }
 ],
 "metadata": {
  "kernelspec": {
   "display_name": "Python 3 (ipykernel)",
   "language": "python",
   "name": "python3"
  },
  "language_info": {
   "codemirror_mode": {
    "name": "ipython",
    "version": 3
   },
   "file_extension": ".py",
   "mimetype": "text/x-python",
   "name": "python",
   "nbconvert_exporter": "python",
   "pygments_lexer": "ipython3",
   "version": "3.10.1"
  }
 },
 "nbformat": 4,
 "nbformat_minor": 5
}
